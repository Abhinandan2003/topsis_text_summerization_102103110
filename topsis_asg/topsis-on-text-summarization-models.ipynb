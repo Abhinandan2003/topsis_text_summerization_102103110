{
 "cells": [
  {
   "cell_type": "code",
   "execution_count": 10,
   "metadata": {
    "execution": {
     "iopub.execute_input": "2024-01-27T07:03:56.091915Z",
     "iopub.status.busy": "2024-01-27T07:03:56.091107Z",
     "iopub.status.idle": "2024-01-27T07:04:22.204306Z",
     "shell.execute_reply": "2024-01-27T07:04:22.202847Z",
     "shell.execute_reply.started": "2024-01-27T07:03:56.091875Z"
    }
   },
   "outputs": [],
   "source": [
    "import pandas as pd\n",
    "from transformers import pipeline\n",
    "from nltk.translate.bleu_score import corpus_bleu\n",
    "from nltk.tokenize import word_tokenize\n",
    "from nltk.util import ngrams\n",
    "from math import exp\n",
    "from tqdm import tqdm "
   ]
  },
  {
   "cell_type": "code",
   "execution_count": 11,
   "metadata": {
    "execution": {
     "iopub.execute_input": "2024-01-27T07:58:45.465756Z",
     "iopub.status.busy": "2024-01-27T07:58:45.465294Z",
     "iopub.status.idle": "2024-01-27T07:58:45.635587Z",
     "shell.execute_reply": "2024-01-27T07:58:45.633967Z",
     "shell.execute_reply.started": "2024-01-27T07:58:45.465721Z"
    }
   },
   "outputs": [],
   "source": [
    "train_df1 = pd.read_csv(\"C:/Users/Abhinandan Sharma/Desktop/topsis_asg/train.csv\")\n",
    "train_df=train_df1.head(150)"
   ]
  },
  {
   "cell_type": "code",
   "execution_count": 22,
   "metadata": {
    "execution": {
     "iopub.execute_input": "2024-01-27T07:58:46.712293Z",
     "iopub.status.busy": "2024-01-27T07:58:46.711885Z",
     "iopub.status.idle": "2024-01-27T07:58:46.718148Z",
     "shell.execute_reply": "2024-01-27T07:58:46.716933Z",
     "shell.execute_reply.started": "2024-01-27T07:58:46.712261Z"
    }
   },
   "outputs": [],
   "source": [
    "models = [\n",
    "    \"facebook/bart-large-cnn\",\n",
    "    \"t5-large\",\n",
    "    \"sshleifer/distilbart-cnn-12-6\",\n",
    "    \"google/pegasus-large\",\n",
    "    \"allenai/led-large-16384-arxiv\",\n",
    "    \"sshleifer/bart-tiny-random\",\n",
    "  \n",
    "]"
   ]
  },
  {
   "cell_type": "code",
   "execution_count": 13,
   "metadata": {
    "execution": {
     "iopub.execute_input": "2024-01-27T07:58:48.030162Z",
     "iopub.status.busy": "2024-01-27T07:58:48.028803Z",
     "iopub.status.idle": "2024-01-27T07:58:48.037659Z",
     "shell.execute_reply": "2024-01-27T07:58:48.036356Z",
     "shell.execute_reply.started": "2024-01-27T07:58:48.030119Z"
    }
   },
   "outputs": [],
   "source": [
    "def semantic_coherence(generated_summary, dialogue):\n",
    "    summary_tokens = word_tokenize(generated_summary.lower())\n",
    "    dialogue_tokens = word_tokenize(dialogue.lower())\n",
    "    common_tokens = set(summary_tokens) & set(dialogue_tokens)\n",
    "    coherence_score = len(common_tokens) / len(summary_tokens)\n",
    "    return coherence_score\n"
   ]
  },
  {
   "cell_type": "code",
   "execution_count": 14,
   "metadata": {
    "execution": {
     "iopub.execute_input": "2024-01-27T07:58:49.023502Z",
     "iopub.status.busy": "2024-01-27T07:58:49.023063Z",
     "iopub.status.idle": "2024-01-27T07:58:49.031553Z",
     "shell.execute_reply": "2024-01-27T07:58:49.029928Z",
     "shell.execute_reply.started": "2024-01-27T07:58:49.023466Z"
    }
   },
   "outputs": [],
   "source": [
    "def factual_accuracy(generated_summary, reference_summary):\n",
    "    gen_tokens = set(word_tokenize(generated_summary.lower()))\n",
    "    ref_tokens = set(word_tokenize(reference_summary.lower()))\n",
    "    common_tokens = gen_tokens & ref_tokens\n",
    "    accuracy_score = len(common_tokens) / len(ref_tokens) if len(ref_tokens) != 0 else 0\n",
    "    return accuracy_score\n"
   ]
  },
  {
   "cell_type": "code",
   "execution_count": 15,
   "metadata": {
    "execution": {
     "iopub.execute_input": "2024-01-27T07:58:50.467135Z",
     "iopub.status.busy": "2024-01-27T07:58:50.466442Z",
     "iopub.status.idle": "2024-01-27T07:58:50.475920Z",
     "shell.execute_reply": "2024-01-27T07:58:50.474019Z",
     "shell.execute_reply.started": "2024-01-27T07:58:50.467083Z"
    }
   },
   "outputs": [],
   "source": [
    "def content_coverage(generated_summary, dialogue):\n",
    "    summary_tokens = set(word_tokenize(generated_summary.lower()))\n",
    "    dialogue_tokens = set(word_tokenize(dialogue.lower()))\n",
    "    common_tokens = summary_tokens & dialogue_tokens\n",
    "    coverage_score = len(common_tokens) / len(dialogue_tokens) if len(dialogue_tokens) != 0 else 0\n",
    "    return coverage_score\n"
   ]
  },
  {
   "cell_type": "code",
   "execution_count": 16,
   "metadata": {
    "execution": {
     "iopub.execute_input": "2024-01-27T07:58:51.965147Z",
     "iopub.status.busy": "2024-01-27T07:58:51.964664Z",
     "iopub.status.idle": "2024-01-27T07:58:51.974937Z",
     "shell.execute_reply": "2024-01-27T07:58:51.972626Z",
     "shell.execute_reply.started": "2024-01-27T07:58:51.965112Z"
    }
   },
   "outputs": [],
   "source": [
    "from math import log\n",
    "def fluency(generated_summary):\n",
    "    tokens = word_tokenize(generated_summary.lower())\n",
    "    token_freq = Counter(tokens)\n",
    "    total_log_prob = sum(-log(token_freq[token] / len(tokens)) for token in token_freq)\n",
    "    perplexity = exp(total_log_prob / len(tokens))\n",
    "    return perplexity"
   ]
  },
  {
   "cell_type": "code",
   "execution_count": 17,
   "metadata": {
    "execution": {
     "iopub.execute_input": "2024-01-27T08:25:36.752283Z",
     "iopub.status.busy": "2024-01-27T08:25:36.751742Z",
     "iopub.status.idle": "2024-01-27T08:25:36.759951Z",
     "shell.execute_reply": "2024-01-27T08:25:36.758512Z",
     "shell.execute_reply.started": "2024-01-27T08:25:36.752249Z"
    }
   },
   "outputs": [],
   "source": [
    "evaluation_results_list = []"
   ]
  },
  {
   "cell_type": "code",
   "execution_count": 19,
   "metadata": {},
   "outputs": [
    {
     "name": "stderr",
     "output_type": "stream",
     "text": [
      "[nltk_data] Downloading package punkt to C:\\Users\\Abhinandan\n",
      "[nltk_data]     Sharma\\AppData\\Roaming\\nltk_data...\n",
      "[nltk_data]   Unzipping tokenizers\\punkt.zip.\n"
     ]
    },
    {
     "data": {
      "text/plain": [
       "True"
      ]
     },
     "execution_count": 19,
     "metadata": {},
     "output_type": "execute_result"
    }
   ],
   "source": [
    "import nltk\n",
    "from nltk.tokenize import word_tokenize\n",
    "\n",
    "# Download the 'punkt' resource\n",
    "nltk.download('punkt')\n",
    "\n"
   ]
  },
  {
   "cell_type": "code",
   "execution_count": 20,
   "metadata": {},
   "outputs": [],
   "source": [
    "from collections import Counter\n"
   ]
  },
  {
   "cell_type": "code",
   "execution_count": 23,
   "metadata": {
    "scrolled": false
   },
   "outputs": [
    {
     "name": "stdout",
     "output_type": "stream",
     "text": [
      "Evaluating model: facebook/bart-large-cnn\n"
     ]
    },
    {
     "name": "stderr",
     "output_type": "stream",
     "text": [
      "  3%|██▋                                                                               | 5/150 [00:36<18:50,  7.80s/it]Your max_length is set to 150, but your input_length is only 100. Since this is a summarization task, where outputs shorter than the input are typically wanted, you might consider decreasing max_length manually, e.g. summarizer('...', max_length=50)\n",
      "  4%|███▎                                                                              | 6/150 [00:41<16:25,  6.84s/it]Your max_length is set to 150, but your input_length is only 87. Since this is a summarization task, where outputs shorter than the input are typically wanted, you might consider decreasing max_length manually, e.g. summarizer('...', max_length=43)\n",
      "  8%|██████▍                                                                          | 12/150 [01:18<14:23,  6.26s/it]Your max_length is set to 150, but your input_length is only 99. Since this is a summarization task, where outputs shorter than the input are typically wanted, you might consider decreasing max_length manually, e.g. summarizer('...', max_length=49)\n",
      " 10%|████████                                                                         | 15/150 [01:42<16:49,  7.48s/it]Your max_length is set to 150, but your input_length is only 76. Since this is a summarization task, where outputs shorter than the input are typically wanted, you might consider decreasing max_length manually, e.g. summarizer('...', max_length=38)\n",
      " 11%|████████▋                                                                        | 16/150 [01:48<15:35,  6.98s/it]Your max_length is set to 150, but your input_length is only 81. Since this is a summarization task, where outputs shorter than the input are typically wanted, you might consider decreasing max_length manually, e.g. summarizer('...', max_length=40)\n",
      " 13%|██████████▎                                                                      | 19/150 [02:10<16:13,  7.43s/it]Your max_length is set to 150, but your input_length is only 120. Since this is a summarization task, where outputs shorter than the input are typically wanted, you might consider decreasing max_length manually, e.g. summarizer('...', max_length=60)\n",
      " 15%|████████████▍                                                                    | 23/150 [02:40<15:29,  7.32s/it]Your max_length is set to 150, but your input_length is only 140. Since this is a summarization task, where outputs shorter than the input are typically wanted, you might consider decreasing max_length manually, e.g. summarizer('...', max_length=70)\n",
      " 19%|███████████████▋                                                                 | 29/150 [03:24<15:47,  7.83s/it]Your max_length is set to 150, but your input_length is only 143. Since this is a summarization task, where outputs shorter than the input are typically wanted, you might consider decreasing max_length manually, e.g. summarizer('...', max_length=71)\n",
      " 21%|█████████████████▎                                                               | 32/150 [03:44<13:32,  6.88s/it]Your max_length is set to 150, but your input_length is only 87. Since this is a summarization task, where outputs shorter than the input are typically wanted, you might consider decreasing max_length manually, e.g. summarizer('...', max_length=43)\n",
      " 27%|██████████████████████▏                                                          | 41/150 [05:00<15:39,  8.62s/it]Your max_length is set to 150, but your input_length is only 139. Since this is a summarization task, where outputs shorter than the input are typically wanted, you might consider decreasing max_length manually, e.g. summarizer('...', max_length=69)\n",
      " 33%|██████████████████████████▍                                                      | 49/150 [06:11<14:31,  8.63s/it]Your max_length is set to 150, but your input_length is only 144. Since this is a summarization task, where outputs shorter than the input are typically wanted, you might consider decreasing max_length manually, e.g. summarizer('...', max_length=72)\n",
      " 34%|███████████████████████████▌                                                     | 51/150 [06:24<12:29,  7.57s/it]Your max_length is set to 150, but your input_length is only 83. Since this is a summarization task, where outputs shorter than the input are typically wanted, you might consider decreasing max_length manually, e.g. summarizer('...', max_length=41)\n",
      " 35%|████████████████████████████▌                                                    | 53/150 [06:37<11:10,  6.91s/it]Your max_length is set to 150, but your input_length is only 74. Since this is a summarization task, where outputs shorter than the input are typically wanted, you might consider decreasing max_length manually, e.g. summarizer('...', max_length=37)\n",
      " 37%|██████████████████████████████▏                                                  | 56/150 [06:58<11:00,  7.03s/it]Your max_length is set to 150, but your input_length is only 74. Since this is a summarization task, where outputs shorter than the input are typically wanted, you might consider decreasing max_length manually, e.g. summarizer('...', max_length=37)\n",
      " 38%|██████████████████████████████▊                                                  | 57/150 [07:07<11:42,  7.55s/it]Your max_length is set to 150, but your input_length is only 146. Since this is a summarization task, where outputs shorter than the input are typically wanted, you might consider decreasing max_length manually, e.g. summarizer('...', max_length=73)\n",
      " 39%|███████████████████████████████▊                                                 | 59/150 [07:25<12:38,  8.34s/it]Your max_length is set to 150, but your input_length is only 103. Since this is a summarization task, where outputs shorter than the input are typically wanted, you might consider decreasing max_length manually, e.g. summarizer('...', max_length=51)\n",
      " 40%|████████████████████████████████▍                                                | 60/150 [07:32<12:00,  8.01s/it]Your max_length is set to 150, but your input_length is only 125. Since this is a summarization task, where outputs shorter than the input are typically wanted, you might consider decreasing max_length manually, e.g. summarizer('...', max_length=62)\n",
      " 43%|███████████████████████████████████                                              | 65/150 [08:09<10:28,  7.39s/it]Your max_length is set to 150, but your input_length is only 141. Since this is a summarization task, where outputs shorter than the input are typically wanted, you might consider decreasing max_length manually, e.g. summarizer('...', max_length=70)\n",
      " 49%|███████████████████████████████████████▍                                         | 73/150 [09:01<09:11,  7.17s/it]Your max_length is set to 150, but your input_length is only 147. Since this is a summarization task, where outputs shorter than the input are typically wanted, you might consider decreasing max_length manually, e.g. summarizer('...', max_length=73)\n",
      " 51%|█████████████████████████████████████████▌                                       | 77/150 [09:28<08:03,  6.62s/it]Your max_length is set to 150, but your input_length is only 64. Since this is a summarization task, where outputs shorter than the input are typically wanted, you might consider decreasing max_length manually, e.g. summarizer('...', max_length=32)\n",
      " 52%|██████████████████████████████████████████                                       | 78/150 [09:33<07:36,  6.34s/it]Your max_length is set to 150, but your input_length is only 77. Since this is a summarization task, where outputs shorter than the input are typically wanted, you might consider decreasing max_length manually, e.g. summarizer('...', max_length=38)\n",
      " 55%|████████████████████████████████████████████▎                                    | 82/150 [10:03<08:20,  7.35s/it]Your max_length is set to 150, but your input_length is only 85. Since this is a summarization task, where outputs shorter than the input are typically wanted, you might consider decreasing max_length manually, e.g. summarizer('...', max_length=42)\n"
     ]
    },
    {
     "name": "stderr",
     "output_type": "stream",
     "text": [
      " 57%|██████████████████████████████████████████████▍                                  | 86/150 [10:37<09:02,  8.47s/it]Your max_length is set to 150, but your input_length is only 139. Since this is a summarization task, where outputs shorter than the input are typically wanted, you might consider decreasing max_length manually, e.g. summarizer('...', max_length=69)\n",
      " 59%|███████████████████████████████████████████████▌                                 | 88/150 [10:52<08:18,  8.03s/it]Your max_length is set to 150, but your input_length is only 96. Since this is a summarization task, where outputs shorter than the input are typically wanted, you might consider decreasing max_length manually, e.g. summarizer('...', max_length=48)\n",
      " 66%|█████████████████████████████████████████████████████▍                           | 99/150 [12:10<06:02,  7.10s/it]Your max_length is set to 150, but your input_length is only 132. Since this is a summarization task, where outputs shorter than the input are typically wanted, you might consider decreasing max_length manually, e.g. summarizer('...', max_length=66)\n",
      " 68%|██████████████████████████████████████████████████████▍                         | 102/150 [12:31<05:38,  7.06s/it]Your max_length is set to 150, but your input_length is only 131. Since this is a summarization task, where outputs shorter than the input are typically wanted, you might consider decreasing max_length manually, e.g. summarizer('...', max_length=65)\n",
      " 69%|███████████████████████████████████████████████████████▍                        | 104/150 [12:46<05:31,  7.21s/it]Your max_length is set to 150, but your input_length is only 107. Since this is a summarization task, where outputs shorter than the input are typically wanted, you might consider decreasing max_length manually, e.g. summarizer('...', max_length=53)\n",
      " 70%|████████████████████████████████████████████████████████                        | 105/150 [12:56<06:04,  8.11s/it]Your max_length is set to 150, but your input_length is only 148. Since this is a summarization task, where outputs shorter than the input are typically wanted, you might consider decreasing max_length manually, e.g. summarizer('...', max_length=74)\n",
      " 73%|██████████████████████████████████████████████████████████▋                     | 110/150 [13:41<05:44,  8.61s/it]Your max_length is set to 150, but your input_length is only 82. Since this is a summarization task, where outputs shorter than the input are typically wanted, you might consider decreasing max_length manually, e.g. summarizer('...', max_length=41)\n",
      " 75%|████████████████████████████████████████████████████████████▎                   | 113/150 [14:05<04:59,  8.10s/it]Your max_length is set to 150, but your input_length is only 109. Since this is a summarization task, where outputs shorter than the input are typically wanted, you might consider decreasing max_length manually, e.g. summarizer('...', max_length=54)\n",
      " 77%|█████████████████████████████████████████████████████████████▊                  | 116/150 [14:25<04:12,  7.41s/it]Your max_length is set to 150, but your input_length is only 136. Since this is a summarization task, where outputs shorter than the input are typically wanted, you might consider decreasing max_length manually, e.g. summarizer('...', max_length=68)\n",
      " 81%|████████████████████████████████████████████████████████████████▌               | 121/150 [15:01<03:25,  7.08s/it]Your max_length is set to 150, but your input_length is only 89. Since this is a summarization task, where outputs shorter than the input are typically wanted, you might consider decreasing max_length manually, e.g. summarizer('...', max_length=44)\n",
      " 81%|█████████████████████████████████████████████████████████████████               | 122/150 [15:08<03:19,  7.11s/it]Your max_length is set to 150, but your input_length is only 125. Since this is a summarization task, where outputs shorter than the input are typically wanted, you might consider decreasing max_length manually, e.g. summarizer('...', max_length=62)\n",
      " 86%|████████████████████████████████████████████████████████████████████▊           | 129/150 [16:08<03:00,  8.58s/it]Your max_length is set to 150, but your input_length is only 78. Since this is a summarization task, where outputs shorter than the input are typically wanted, you might consider decreasing max_length manually, e.g. summarizer('...', max_length=39)\n",
      " 87%|█████████████████████████████████████████████████████████████████████▎          | 130/150 [16:19<03:07,  9.39s/it]Your max_length is set to 150, but your input_length is only 70. Since this is a summarization task, where outputs shorter than the input are typically wanted, you might consider decreasing max_length manually, e.g. summarizer('...', max_length=35)\n",
      " 89%|███████████████████████████████████████████████████████████████████████▍        | 134/150 [16:56<02:23,  8.96s/it]Your max_length is set to 150, but your input_length is only 116. Since this is a summarization task, where outputs shorter than the input are typically wanted, you might consider decreasing max_length manually, e.g. summarizer('...', max_length=58)\n",
      " 91%|████████████████████████████████████████████████████████████████████████▌       | 136/150 [17:18<02:18,  9.89s/it]Your max_length is set to 150, but your input_length is only 123. Since this is a summarization task, where outputs shorter than the input are typically wanted, you might consider decreasing max_length manually, e.g. summarizer('...', max_length=61)\n",
      " 91%|█████████████████████████████████████████████████████████████████████████       | 137/150 [17:24<01:55,  8.86s/it]Your max_length is set to 150, but your input_length is only 140. Since this is a summarization task, where outputs shorter than the input are typically wanted, you might consider decreasing max_length manually, e.g. summarizer('...', max_length=70)\n",
      " 93%|██████████████████████████████████████████████████████████████████████████▋     | 140/150 [17:55<01:41, 10.13s/it]Your max_length is set to 150, but your input_length is only 148. Since this is a summarization task, where outputs shorter than the input are typically wanted, you might consider decreasing max_length manually, e.g. summarizer('...', max_length=74)\n",
      " 98%|██████████████████████████████████████████████████████████████████████████████▍ | 147/150 [18:48<00:22,  7.37s/it]Your max_length is set to 150, but your input_length is only 123. Since this is a summarization task, where outputs shorter than the input are typically wanted, you might consider decreasing max_length manually, e.g. summarizer('...', max_length=61)\n",
      " 99%|██████████████████████████████████████████████████████████████████████████████▉ | 148/150 [18:56<00:15,  7.78s/it]Your max_length is set to 150, but your input_length is only 147. Since this is a summarization task, where outputs shorter than the input are typically wanted, you might consider decreasing max_length manually, e.g. summarizer('...', max_length=73)\n",
      "100%|████████████████████████████████████████████████████████████████████████████████| 150/150 [19:20<00:00,  7.74s/it]\n"
     ]
    },
    {
     "name": "stdout",
     "output_type": "stream",
     "text": [
      "==================================================\n",
      "Evaluating model: t5-large\n"
     ]
    },
    {
     "data": {
      "application/vnd.jupyter.widget-view+json": {
       "model_id": "2a2296e086c74186a7d015fa798b12f9",
       "version_major": 2,
       "version_minor": 0
      },
      "text/plain": [
       "Downloading config.json:   0%|          | 0.00/1.21k [00:00<?, ?B/s]"
      ]
     },
     "metadata": {},
     "output_type": "display_data"
    },
    {
     "data": {
      "application/vnd.jupyter.widget-view+json": {
       "model_id": "2b5e9679b31e4727af8cbed72e992621",
       "version_major": 2,
       "version_minor": 0
      },
      "text/plain": [
       "Downloading model.safetensors:   0%|          | 0.00/2.95G [00:00<?, ?B/s]"
      ]
     },
     "metadata": {},
     "output_type": "display_data"
    },
    {
     "data": {
      "application/vnd.jupyter.widget-view+json": {
       "model_id": "e2ec83bb9bb94fe184632023955b844e",
       "version_major": 2,
       "version_minor": 0
      },
      "text/plain": [
       "Downloading generation_config.json:   0%|          | 0.00/147 [00:00<?, ?B/s]"
      ]
     },
     "metadata": {},
     "output_type": "display_data"
    },
    {
     "data": {
      "application/vnd.jupyter.widget-view+json": {
       "model_id": "7ffc2dca465342c69610d759dbc13ae2",
       "version_major": 2,
       "version_minor": 0
      },
      "text/plain": [
       "Downloading spiece.model:   0%|          | 0.00/792k [00:00<?, ?B/s]"
      ]
     },
     "metadata": {},
     "output_type": "display_data"
    },
    {
     "data": {
      "application/vnd.jupyter.widget-view+json": {
       "model_id": "07fecdad72484303a8ff02f7b086b166",
       "version_major": 2,
       "version_minor": 0
      },
      "text/plain": [
       "Downloading tokenizer.json:   0%|          | 0.00/1.39M [00:00<?, ?B/s]"
      ]
     },
     "metadata": {},
     "output_type": "display_data"
    },
    {
     "name": "stderr",
     "output_type": "stream",
     "text": [
      "E:\\anaconda\\Lib\\site-packages\\transformers\\models\\t5\\tokenization_t5_fast.py:155: FutureWarning: This tokenizer was incorrectly instantiated with a model max length of 512 which will be corrected in Transformers v5.\n",
      "For now, this behavior is kept to avoid breaking backwards compatibility when padding/encoding with `truncation is True`.\n",
      "- Be aware that you SHOULD NOT rely on t5-large automatically truncating your input to 512 when padding/encoding.\n",
      "- If you want to encode/pad to sequences longer than 512 you can either instantiate this tokenizer with `model_max_length` or pass `max_length` when encoding/padding.\n",
      "- To avoid this warning, please instantiate this tokenizer with `model_max_length` set to your preferred value.\n",
      "  warnings.warn(\n",
      "  3%|██▋                                                                               | 5/150 [01:40<49:12, 20.36s/it]Your max_length is set to 150, but your input_length is only 108. Since this is a summarization task, where outputs shorter than the input are typically wanted, you might consider decreasing max_length manually, e.g. summarizer('...', max_length=54)\n",
      "  4%|███▎                                                                              | 6/150 [01:59<48:18, 20.13s/it]Your max_length is set to 150, but your input_length is only 91. Since this is a summarization task, where outputs shorter than the input are typically wanted, you might consider decreasing max_length manually, e.g. summarizer('...', max_length=45)\n",
      "  8%|██████▍                                                                          | 12/150 [03:56<46:21, 20.16s/it]Your max_length is set to 150, but your input_length is only 112. Since this is a summarization task, where outputs shorter than the input are typically wanted, you might consider decreasing max_length manually, e.g. summarizer('...', max_length=56)\n",
      " 10%|████████                                                                         | 15/150 [04:48<41:47, 18.57s/it]Your max_length is set to 150, but your input_length is only 86. Since this is a summarization task, where outputs shorter than the input are typically wanted, you might consider decreasing max_length manually, e.g. summarizer('...', max_length=43)\n",
      " 11%|████████▋                                                                        | 16/150 [04:58<35:42, 15.99s/it]Your max_length is set to 150, but your input_length is only 87. Since this is a summarization task, where outputs shorter than the input are typically wanted, you might consider decreasing max_length manually, e.g. summarizer('...', max_length=43)\n",
      " 13%|██████████▎                                                                      | 19/150 [05:35<29:38, 13.57s/it]Your max_length is set to 150, but your input_length is only 129. Since this is a summarization task, where outputs shorter than the input are typically wanted, you might consider decreasing max_length manually, e.g. summarizer('...', max_length=64)\n",
      " 21%|█████████████████▎                                                               | 32/150 [09:14<32:44, 16.65s/it]Your max_length is set to 150, but your input_length is only 91. Since this is a summarization task, where outputs shorter than the input are typically wanted, you might consider decreasing max_length manually, e.g. summarizer('...', max_length=45)\n",
      " 27%|██████████████████████▏                                                          | 41/150 [12:21<39:41, 21.85s/it]Your max_length is set to 150, but your input_length is only 144. Since this is a summarization task, where outputs shorter than the input are typically wanted, you might consider decreasing max_length manually, e.g. summarizer('...', max_length=72)\n",
      " 34%|███████████████████████████▌                                                     | 51/150 [15:08<29:06, 17.65s/it]Your max_length is set to 150, but your input_length is only 87. Since this is a summarization task, where outputs shorter than the input are typically wanted, you might consider decreasing max_length manually, e.g. summarizer('...', max_length=43)\n",
      " 35%|████████████████████████████▌                                                    | 53/150 [15:50<31:56, 19.75s/it]Your max_length is set to 150, but your input_length is only 82. Since this is a summarization task, where outputs shorter than the input are typically wanted, you might consider decreasing max_length manually, e.g. summarizer('...', max_length=41)\n",
      " 37%|██████████████████████████████▏                                                  | 56/150 [16:37<26:34, 16.97s/it]Your max_length is set to 150, but your input_length is only 83. Since this is a summarization task, where outputs shorter than the input are typically wanted, you might consider decreasing max_length manually, e.g. summarizer('...', max_length=41)\n",
      " 39%|███████████████████████████████▎                                                 | 58/150 [17:02<22:52, 14.91s/it]Token indices sequence length is longer than the specified maximum sequence length for this model (519 > 512). Running this sequence through the model will result in indexing errors\n",
      " 39%|███████████████████████████████▊                                                 | 59/150 [17:34<30:33, 20.14s/it]Your max_length is set to 150, but your input_length is only 113. Since this is a summarization task, where outputs shorter than the input are typically wanted, you might consider decreasing max_length manually, e.g. summarizer('...', max_length=56)\n",
      " 40%|████████████████████████████████▍                                                | 60/150 [17:47<26:56, 17.96s/it]Your max_length is set to 150, but your input_length is only 135. Since this is a summarization task, where outputs shorter than the input are typically wanted, you might consider decreasing max_length manually, e.g. summarizer('...', max_length=67)\n",
      " 51%|█████████████████████████████████████████▌                                       | 77/150 [22:46<22:28, 18.47s/it]Your max_length is set to 150, but your input_length is only 71. Since this is a summarization task, where outputs shorter than the input are typically wanted, you might consider decreasing max_length manually, e.g. summarizer('...', max_length=35)\n",
      " 52%|██████████████████████████████████████████                                       | 78/150 [22:56<19:23, 16.15s/it]Your max_length is set to 150, but your input_length is only 82. Since this is a summarization task, where outputs shorter than the input are typically wanted, you might consider decreasing max_length manually, e.g. summarizer('...', max_length=41)\n",
      " 55%|████████████████████████████████████████████▎                                    | 82/150 [24:33<27:11, 23.99s/it]Your max_length is set to 150, but your input_length is only 91. Since this is a summarization task, where outputs shorter than the input are typically wanted, you might consider decreasing max_length manually, e.g. summarizer('...', max_length=45)\n",
      " 57%|██████████████████████████████████████████████▍                                  | 86/150 [25:44<19:55, 18.68s/it]Your max_length is set to 150, but your input_length is only 142. Since this is a summarization task, where outputs shorter than the input are typically wanted, you might consider decreasing max_length manually, e.g. summarizer('...', max_length=71)\n",
      " 59%|███████████████████████████████████████████████▌                                 | 88/150 [26:11<16:57, 16.41s/it]Your max_length is set to 150, but your input_length is only 99. Since this is a summarization task, where outputs shorter than the input are typically wanted, you might consider decreasing max_length manually, e.g. summarizer('...', max_length=49)\n",
      " 66%|█████████████████████████████████████████████████████▍                           | 99/150 [29:30<16:57, 19.95s/it]Your max_length is set to 150, but your input_length is only 136. Since this is a summarization task, where outputs shorter than the input are typically wanted, you might consider decreasing max_length manually, e.g. summarizer('...', max_length=68)\n",
      " 68%|██████████████████████████████████████████████████████▍                         | 102/150 [30:31<16:31, 20.67s/it]Your max_length is set to 150, but your input_length is only 143. Since this is a summarization task, where outputs shorter than the input are typically wanted, you might consider decreasing max_length manually, e.g. summarizer('...', max_length=71)\n"
     ]
    },
    {
     "name": "stderr",
     "output_type": "stream",
     "text": [
      " 69%|███████████████████████████████████████████████████████▍                        | 104/150 [31:08<15:07, 19.73s/it]Your max_length is set to 150, but your input_length is only 113. Since this is a summarization task, where outputs shorter than the input are typically wanted, you might consider decreasing max_length manually, e.g. summarizer('...', max_length=56)\n",
      " 73%|██████████████████████████████████████████████████████████▋                     | 110/150 [32:47<11:38, 17.45s/it]Your max_length is set to 150, but your input_length is only 87. Since this is a summarization task, where outputs shorter than the input are typically wanted, you might consider decreasing max_length manually, e.g. summarizer('...', max_length=43)\n",
      " 75%|████████████████████████████████████████████████████████████▎                   | 113/150 [33:32<10:09, 16.48s/it]Your max_length is set to 150, but your input_length is only 115. Since this is a summarization task, where outputs shorter than the input are typically wanted, you might consider decreasing max_length manually, e.g. summarizer('...', max_length=57)\n",
      " 77%|█████████████████████████████████████████████████████████████▊                  | 116/150 [34:22<09:21, 16.50s/it]Your max_length is set to 150, but your input_length is only 144. Since this is a summarization task, where outputs shorter than the input are typically wanted, you might consider decreasing max_length manually, e.g. summarizer('...', max_length=72)\n",
      " 81%|████████████████████████████████████████████████████████████████▌               | 121/150 [35:44<08:14, 17.06s/it]Your max_length is set to 150, but your input_length is only 100. Since this is a summarization task, where outputs shorter than the input are typically wanted, you might consider decreasing max_length manually, e.g. summarizer('...', max_length=50)\n",
      " 81%|█████████████████████████████████████████████████████████████████               | 122/150 [35:54<06:53, 14.76s/it]Your max_length is set to 150, but your input_length is only 134. Since this is a summarization task, where outputs shorter than the input are typically wanted, you might consider decreasing max_length manually, e.g. summarizer('...', max_length=67)\n",
      " 86%|████████████████████████████████████████████████████████████████████▊           | 129/150 [38:38<09:14, 26.39s/it]Your max_length is set to 150, but your input_length is only 89. Since this is a summarization task, where outputs shorter than the input are typically wanted, you might consider decreasing max_length manually, e.g. summarizer('...', max_length=44)\n",
      " 87%|█████████████████████████████████████████████████████████████████████▎          | 130/150 [38:55<07:51, 23.58s/it]Your max_length is set to 150, but your input_length is only 77. Since this is a summarization task, where outputs shorter than the input are typically wanted, you might consider decreasing max_length manually, e.g. summarizer('...', max_length=38)\n",
      " 89%|███████████████████████████████████████████████████████████████████████▍        | 134/150 [40:17<05:50, 21.92s/it]Your max_length is set to 150, but your input_length is only 120. Since this is a summarization task, where outputs shorter than the input are typically wanted, you might consider decreasing max_length manually, e.g. summarizer('...', max_length=60)\n",
      " 91%|████████████████████████████████████████████████████████████████████████▌       | 136/150 [40:54<04:48, 20.58s/it]Your max_length is set to 150, but your input_length is only 124. Since this is a summarization task, where outputs shorter than the input are typically wanted, you might consider decreasing max_length manually, e.g. summarizer('...', max_length=62)\n",
      " 91%|█████████████████████████████████████████████████████████████████████████       | 137/150 [41:10<04:06, 19.00s/it]Your max_length is set to 150, but your input_length is only 149. Since this is a summarization task, where outputs shorter than the input are typically wanted, you might consider decreasing max_length manually, e.g. summarizer('...', max_length=74)\n",
      " 93%|██████████████████████████████████████████████████████████████████████████▋     | 140/150 [42:32<04:16, 25.69s/it]Your max_length is set to 150, but your input_length is only 148. Since this is a summarization task, where outputs shorter than the input are typically wanted, you might consider decreasing max_length manually, e.g. summarizer('...', max_length=74)\n",
      " 98%|██████████████████████████████████████████████████████████████████████████████▍ | 147/150 [45:14<01:09, 23.18s/it]Your max_length is set to 150, but your input_length is only 134. Since this is a summarization task, where outputs shorter than the input are typically wanted, you might consider decreasing max_length manually, e.g. summarizer('...', max_length=67)\n",
      "100%|████████████████████████████████████████████████████████████████████████████████| 150/150 [46:22<00:00, 18.55s/it]\n"
     ]
    },
    {
     "name": "stdout",
     "output_type": "stream",
     "text": [
      "==================================================\n",
      "Evaluating model: sshleifer/distilbart-cnn-12-6\n"
     ]
    },
    {
     "data": {
      "application/vnd.jupyter.widget-view+json": {
       "model_id": "38ee1dee9f9940258a3c9feb01163fcf",
       "version_major": 2,
       "version_minor": 0
      },
      "text/plain": [
       "Downloading config.json:   0%|          | 0.00/1.80k [00:00<?, ?B/s]"
      ]
     },
     "metadata": {},
     "output_type": "display_data"
    },
    {
     "data": {
      "application/vnd.jupyter.widget-view+json": {
       "model_id": "6e4d4fae136d4eb88acc6f77a2ecb623",
       "version_major": 2,
       "version_minor": 0
      },
      "text/plain": [
       "Downloading pytorch_model.bin:   0%|          | 0.00/1.22G [00:00<?, ?B/s]"
      ]
     },
     "metadata": {},
     "output_type": "display_data"
    },
    {
     "data": {
      "application/vnd.jupyter.widget-view+json": {
       "model_id": "dc59577658334c54bed6b9329469f817",
       "version_major": 2,
       "version_minor": 0
      },
      "text/plain": [
       "Downloading tokenizer_config.json:   0%|          | 0.00/26.0 [00:00<?, ?B/s]"
      ]
     },
     "metadata": {},
     "output_type": "display_data"
    },
    {
     "data": {
      "application/vnd.jupyter.widget-view+json": {
       "model_id": "6d5e9658cdbc432da77bf71537f0c41e",
       "version_major": 2,
       "version_minor": 0
      },
      "text/plain": [
       "Downloading vocab.json:   0%|          | 0.00/899k [00:00<?, ?B/s]"
      ]
     },
     "metadata": {},
     "output_type": "display_data"
    },
    {
     "data": {
      "application/vnd.jupyter.widget-view+json": {
       "model_id": "a9f7cbe21fd34c9fba6353464ec77c0d",
       "version_major": 2,
       "version_minor": 0
      },
      "text/plain": [
       "Downloading merges.txt:   0%|          | 0.00/456k [00:00<?, ?B/s]"
      ]
     },
     "metadata": {},
     "output_type": "display_data"
    },
    {
     "name": "stderr",
     "output_type": "stream",
     "text": [
      "  3%|██▋                                                                               | 5/150 [00:42<21:38,  8.96s/it]Your max_length is set to 150, but your input_length is only 100. Since this is a summarization task, where outputs shorter than the input are typically wanted, you might consider decreasing max_length manually, e.g. summarizer('...', max_length=50)\n",
      "  4%|███▎                                                                              | 6/150 [00:48<19:08,  7.98s/it]Your max_length is set to 150, but your input_length is only 87. Since this is a summarization task, where outputs shorter than the input are typically wanted, you might consider decreasing max_length manually, e.g. summarizer('...', max_length=43)\n",
      "  8%|██████▍                                                                          | 12/150 [01:29<16:54,  7.35s/it]Your max_length is set to 150, but your input_length is only 99. Since this is a summarization task, where outputs shorter than the input are typically wanted, you might consider decreasing max_length manually, e.g. summarizer('...', max_length=49)\n",
      " 10%|████████                                                                         | 15/150 [01:56<18:35,  8.26s/it]Your max_length is set to 150, but your input_length is only 76. Since this is a summarization task, where outputs shorter than the input are typically wanted, you might consider decreasing max_length manually, e.g. summarizer('...', max_length=38)\n",
      " 11%|████████▋                                                                        | 16/150 [02:04<17:51,  8.00s/it]Your max_length is set to 150, but your input_length is only 81. Since this is a summarization task, where outputs shorter than the input are typically wanted, you might consider decreasing max_length manually, e.g. summarizer('...', max_length=40)\n",
      " 13%|██████████▎                                                                      | 19/150 [02:22<14:43,  6.75s/it]Your max_length is set to 150, but your input_length is only 120. Since this is a summarization task, where outputs shorter than the input are typically wanted, you might consider decreasing max_length manually, e.g. summarizer('...', max_length=60)\n",
      " 15%|████████████▍                                                                    | 23/150 [02:55<17:13,  8.14s/it]Your max_length is set to 150, but your input_length is only 140. Since this is a summarization task, where outputs shorter than the input are typically wanted, you might consider decreasing max_length manually, e.g. summarizer('...', max_length=70)\n",
      " 19%|███████████████▋                                                                 | 29/150 [03:39<14:00,  6.95s/it]Your max_length is set to 150, but your input_length is only 143. Since this is a summarization task, where outputs shorter than the input are typically wanted, you might consider decreasing max_length manually, e.g. summarizer('...', max_length=71)\n",
      " 21%|█████████████████▎                                                               | 32/150 [03:54<11:31,  5.86s/it]Your max_length is set to 150, but your input_length is only 87. Since this is a summarization task, where outputs shorter than the input are typically wanted, you might consider decreasing max_length manually, e.g. summarizer('...', max_length=43)\n",
      " 27%|██████████████████████▏                                                          | 41/150 [05:19<20:27, 11.26s/it]Your max_length is set to 150, but your input_length is only 139. Since this is a summarization task, where outputs shorter than the input are typically wanted, you might consider decreasing max_length manually, e.g. summarizer('...', max_length=69)\n",
      " 33%|██████████████████████████▍                                                      | 49/150 [06:28<14:39,  8.70s/it]Your max_length is set to 150, but your input_length is only 144. Since this is a summarization task, where outputs shorter than the input are typically wanted, you might consider decreasing max_length manually, e.g. summarizer('...', max_length=72)\n",
      " 34%|███████████████████████████▌                                                     | 51/150 [06:42<12:59,  7.88s/it]Your max_length is set to 150, but your input_length is only 83. Since this is a summarization task, where outputs shorter than the input are typically wanted, you might consider decreasing max_length manually, e.g. summarizer('...', max_length=41)\n",
      " 35%|████████████████████████████▌                                                    | 53/150 [06:55<11:28,  7.10s/it]Your max_length is set to 150, but your input_length is only 74. Since this is a summarization task, where outputs shorter than the input are typically wanted, you might consider decreasing max_length manually, e.g. summarizer('...', max_length=37)\n",
      " 37%|██████████████████████████████▏                                                  | 56/150 [07:25<13:57,  8.91s/it]Your max_length is set to 150, but your input_length is only 74. Since this is a summarization task, where outputs shorter than the input are typically wanted, you might consider decreasing max_length manually, e.g. summarizer('...', max_length=37)\n",
      " 38%|██████████████████████████████▊                                                  | 57/150 [07:35<14:30,  9.37s/it]Your max_length is set to 150, but your input_length is only 146. Since this is a summarization task, where outputs shorter than the input are typically wanted, you might consider decreasing max_length manually, e.g. summarizer('...', max_length=73)\n",
      " 39%|███████████████████████████████▊                                                 | 59/150 [07:59<16:42, 11.02s/it]Your max_length is set to 150, but your input_length is only 103. Since this is a summarization task, where outputs shorter than the input are typically wanted, you might consider decreasing max_length manually, e.g. summarizer('...', max_length=51)\n",
      " 40%|████████████████████████████████▍                                                | 60/150 [08:05<14:17,  9.53s/it]Your max_length is set to 150, but your input_length is only 125. Since this is a summarization task, where outputs shorter than the input are typically wanted, you might consider decreasing max_length manually, e.g. summarizer('...', max_length=62)\n",
      " 43%|███████████████████████████████████                                              | 65/150 [08:39<10:10,  7.18s/it]Your max_length is set to 150, but your input_length is only 141. Since this is a summarization task, where outputs shorter than the input are typically wanted, you might consider decreasing max_length manually, e.g. summarizer('...', max_length=70)\n",
      " 49%|███████████████████████████████████████▍                                         | 73/150 [09:35<09:15,  7.22s/it]Your max_length is set to 150, but your input_length is only 147. Since this is a summarization task, where outputs shorter than the input are typically wanted, you might consider decreasing max_length manually, e.g. summarizer('...', max_length=73)\n",
      " 51%|█████████████████████████████████████████▌                                       | 77/150 [10:11<10:54,  8.97s/it]Your max_length is set to 150, but your input_length is only 64. Since this is a summarization task, where outputs shorter than the input are typically wanted, you might consider decreasing max_length manually, e.g. summarizer('...', max_length=32)\n",
      " 52%|██████████████████████████████████████████                                       | 78/150 [10:23<11:47,  9.83s/it]Your max_length is set to 150, but your input_length is only 77. Since this is a summarization task, where outputs shorter than the input are typically wanted, you might consider decreasing max_length manually, e.g. summarizer('...', max_length=38)\n",
      " 55%|████████████████████████████████████████████▎                                    | 82/150 [10:51<08:42,  7.69s/it]Your max_length is set to 150, but your input_length is only 85. Since this is a summarization task, where outputs shorter than the input are typically wanted, you might consider decreasing max_length manually, e.g. summarizer('...', max_length=42)\n"
     ]
    },
    {
     "name": "stderr",
     "output_type": "stream",
     "text": [
      " 57%|██████████████████████████████████████████████▍                                  | 86/150 [11:27<09:05,  8.52s/it]Your max_length is set to 150, but your input_length is only 139. Since this is a summarization task, where outputs shorter than the input are typically wanted, you might consider decreasing max_length manually, e.g. summarizer('...', max_length=69)\n",
      " 59%|███████████████████████████████████████████████▌                                 | 88/150 [11:45<09:05,  8.79s/it]Your max_length is set to 150, but your input_length is only 96. Since this is a summarization task, where outputs shorter than the input are typically wanted, you might consider decreasing max_length manually, e.g. summarizer('...', max_length=48)\n",
      " 66%|█████████████████████████████████████████████████████▍                           | 99/150 [13:12<06:00,  7.07s/it]Your max_length is set to 150, but your input_length is only 132. Since this is a summarization task, where outputs shorter than the input are typically wanted, you might consider decreasing max_length manually, e.g. summarizer('...', max_length=66)\n",
      " 68%|██████████████████████████████████████████████████████▍                         | 102/150 [13:32<05:20,  6.68s/it]Your max_length is set to 150, but your input_length is only 131. Since this is a summarization task, where outputs shorter than the input are typically wanted, you might consider decreasing max_length manually, e.g. summarizer('...', max_length=65)\n",
      " 69%|███████████████████████████████████████████████████████▍                        | 104/150 [13:48<05:34,  7.26s/it]Your max_length is set to 150, but your input_length is only 107. Since this is a summarization task, where outputs shorter than the input are typically wanted, you might consider decreasing max_length manually, e.g. summarizer('...', max_length=53)\n",
      " 70%|████████████████████████████████████████████████████████                        | 105/150 [13:53<05:03,  6.75s/it]Your max_length is set to 150, but your input_length is only 148. Since this is a summarization task, where outputs shorter than the input are typically wanted, you might consider decreasing max_length manually, e.g. summarizer('...', max_length=74)\n",
      " 73%|██████████████████████████████████████████████████████████▋                     | 110/150 [14:29<04:29,  6.74s/it]Your max_length is set to 150, but your input_length is only 82. Since this is a summarization task, where outputs shorter than the input are typically wanted, you might consider decreasing max_length manually, e.g. summarizer('...', max_length=41)\n",
      " 75%|████████████████████████████████████████████████████████████▎                   | 113/150 [14:50<04:07,  6.70s/it]Your max_length is set to 150, but your input_length is only 109. Since this is a summarization task, where outputs shorter than the input are typically wanted, you might consider decreasing max_length manually, e.g. summarizer('...', max_length=54)\n",
      " 77%|█████████████████████████████████████████████████████████████▊                  | 116/150 [15:08<03:38,  6.43s/it]Your max_length is set to 150, but your input_length is only 136. Since this is a summarization task, where outputs shorter than the input are typically wanted, you might consider decreasing max_length manually, e.g. summarizer('...', max_length=68)\n",
      " 81%|████████████████████████████████████████████████████████████████▌               | 121/150 [15:38<03:01,  6.25s/it]Your max_length is set to 150, but your input_length is only 89. Since this is a summarization task, where outputs shorter than the input are typically wanted, you might consider decreasing max_length manually, e.g. summarizer('...', max_length=44)\n",
      " 81%|█████████████████████████████████████████████████████████████████               | 122/150 [15:46<03:10,  6.80s/it]Your max_length is set to 150, but your input_length is only 125. Since this is a summarization task, where outputs shorter than the input are typically wanted, you might consider decreasing max_length manually, e.g. summarizer('...', max_length=62)\n",
      " 86%|████████████████████████████████████████████████████████████████████▊           | 129/150 [16:33<02:20,  6.67s/it]Your max_length is set to 150, but your input_length is only 78. Since this is a summarization task, where outputs shorter than the input are typically wanted, you might consider decreasing max_length manually, e.g. summarizer('...', max_length=39)\n",
      " 87%|█████████████████████████████████████████████████████████████████████▎          | 130/150 [16:38<02:05,  6.25s/it]Your max_length is set to 150, but your input_length is only 70. Since this is a summarization task, where outputs shorter than the input are typically wanted, you might consider decreasing max_length manually, e.g. summarizer('...', max_length=35)\n",
      " 89%|███████████████████████████████████████████████████████████████████████▍        | 134/150 [17:07<01:47,  6.71s/it]Your max_length is set to 150, but your input_length is only 116. Since this is a summarization task, where outputs shorter than the input are typically wanted, you might consider decreasing max_length manually, e.g. summarizer('...', max_length=58)\n",
      " 91%|████████████████████████████████████████████████████████████████████████▌       | 136/150 [17:21<01:40,  7.17s/it]Your max_length is set to 150, but your input_length is only 123. Since this is a summarization task, where outputs shorter than the input are typically wanted, you might consider decreasing max_length manually, e.g. summarizer('...', max_length=61)\n",
      " 91%|█████████████████████████████████████████████████████████████████████████       | 137/150 [17:27<01:29,  6.87s/it]Your max_length is set to 150, but your input_length is only 140. Since this is a summarization task, where outputs shorter than the input are typically wanted, you might consider decreasing max_length manually, e.g. summarizer('...', max_length=70)\n",
      " 93%|██████████████████████████████████████████████████████████████████████████▋     | 140/150 [17:50<01:15,  7.56s/it]Your max_length is set to 150, but your input_length is only 148. Since this is a summarization task, where outputs shorter than the input are typically wanted, you might consider decreasing max_length manually, e.g. summarizer('...', max_length=74)\n",
      " 98%|██████████████████████████████████████████████████████████████████████████████▍ | 147/150 [18:44<00:24,  8.18s/it]Your max_length is set to 150, but your input_length is only 123. Since this is a summarization task, where outputs shorter than the input are typically wanted, you might consider decreasing max_length manually, e.g. summarizer('...', max_length=61)\n",
      " 99%|██████████████████████████████████████████████████████████████████████████████▉ | 148/150 [18:51<00:15,  7.61s/it]Your max_length is set to 150, but your input_length is only 147. Since this is a summarization task, where outputs shorter than the input are typically wanted, you might consider decreasing max_length manually, e.g. summarizer('...', max_length=73)\n",
      "100%|████████████████████████████████████████████████████████████████████████████████| 150/150 [19:05<00:00,  7.63s/it]\n"
     ]
    },
    {
     "name": "stdout",
     "output_type": "stream",
     "text": [
      "==================================================\n",
      "Evaluating model: google/pegasus-large\n"
     ]
    },
    {
     "data": {
      "application/vnd.jupyter.widget-view+json": {
       "model_id": "93670f85a7594c2a94cee000d738a2cd",
       "version_major": 2,
       "version_minor": 0
      },
      "text/plain": [
       "Downloading config.json:   0%|          | 0.00/3.09k [00:00<?, ?B/s]"
      ]
     },
     "metadata": {},
     "output_type": "display_data"
    },
    {
     "data": {
      "application/vnd.jupyter.widget-view+json": {
       "model_id": "6ac6f5871210407ca6ba5cf113ab2184",
       "version_major": 2,
       "version_minor": 0
      },
      "text/plain": [
       "Downloading pytorch_model.bin:   0%|          | 0.00/2.28G [00:00<?, ?B/s]"
      ]
     },
     "metadata": {},
     "output_type": "display_data"
    },
    {
     "name": "stderr",
     "output_type": "stream",
     "text": [
      "Some weights of PegasusForConditionalGeneration were not initialized from the model checkpoint at google/pegasus-large and are newly initialized: ['model.decoder.embed_positions.weight', 'model.encoder.embed_positions.weight']\n",
      "You should probably TRAIN this model on a down-stream task to be able to use it for predictions and inference.\n"
     ]
    },
    {
     "data": {
      "application/vnd.jupyter.widget-view+json": {
       "model_id": "6ecc8e1295f442d583dd4fdc7aa5646c",
       "version_major": 2,
       "version_minor": 0
      },
      "text/plain": [
       "Downloading generation_config.json:   0%|          | 0.00/260 [00:00<?, ?B/s]"
      ]
     },
     "metadata": {},
     "output_type": "display_data"
    },
    {
     "data": {
      "application/vnd.jupyter.widget-view+json": {
       "model_id": "7861e9da90394e21a8644335b1077931",
       "version_major": 2,
       "version_minor": 0
      },
      "text/plain": [
       "Downloading tokenizer_config.json:   0%|          | 0.00/88.0 [00:00<?, ?B/s]"
      ]
     },
     "metadata": {},
     "output_type": "display_data"
    },
    {
     "data": {
      "application/vnd.jupyter.widget-view+json": {
       "model_id": "12a1a144711042cb849bb8112fe91953",
       "version_major": 2,
       "version_minor": 0
      },
      "text/plain": [
       "Downloading spiece.model:   0%|          | 0.00/1.91M [00:00<?, ?B/s]"
      ]
     },
     "metadata": {},
     "output_type": "display_data"
    },
    {
     "data": {
      "application/vnd.jupyter.widget-view+json": {
       "model_id": "4099daa4780144e8808028bc25a17c7b",
       "version_major": 2,
       "version_minor": 0
      },
      "text/plain": [
       "Downloading (…)cial_tokens_map.json:   0%|          | 0.00/65.0 [00:00<?, ?B/s]"
      ]
     },
     "metadata": {},
     "output_type": "display_data"
    },
    {
     "name": "stderr",
     "output_type": "stream",
     "text": [
      "  3%|██▋                                                                               | 5/150 [01:15<33:56, 14.05s/it]Your max_length is set to 150, but your input_length is only 97. Since this is a summarization task, where outputs shorter than the input are typically wanted, you might consider decreasing max_length manually, e.g. summarizer('...', max_length=48)\n",
      "  4%|███▎                                                                              | 6/150 [01:27<31:59, 13.33s/it]Your max_length is set to 150, but your input_length is only 82. Since this is a summarization task, where outputs shorter than the input are typically wanted, you might consider decreasing max_length manually, e.g. summarizer('...', max_length=41)\n",
      "  5%|████▎                                                                             | 8/150 [02:11<44:35, 18.84s/it]Your max_length is set to 150, but your input_length is only 146. Since this is a summarization task, where outputs shorter than the input are typically wanted, you might consider decreasing max_length manually, e.g. summarizer('...', max_length=73)\n",
      "  8%|██████▍                                                                          | 12/150 [03:07<35:38, 15.49s/it]Your max_length is set to 150, but your input_length is only 97. Since this is a summarization task, where outputs shorter than the input are typically wanted, you might consider decreasing max_length manually, e.g. summarizer('...', max_length=48)\n",
      " 10%|████████                                                                         | 15/150 [03:57<38:02, 16.90s/it]Your max_length is set to 150, but your input_length is only 72. Since this is a summarization task, where outputs shorter than the input are typically wanted, you might consider decreasing max_length manually, e.g. summarizer('...', max_length=36)\n",
      " 11%|████████▋                                                                        | 16/150 [04:09<34:24, 15.41s/it]Your max_length is set to 150, but your input_length is only 79. Since this is a summarization task, where outputs shorter than the input are typically wanted, you might consider decreasing max_length manually, e.g. summarizer('...', max_length=39)\n",
      " 13%|██████████▎                                                                      | 19/150 [04:46<29:38, 13.58s/it]Your max_length is set to 150, but your input_length is only 118. Since this is a summarization task, where outputs shorter than the input are typically wanted, you might consider decreasing max_length manually, e.g. summarizer('...', max_length=59)\n",
      " 15%|████████████▍                                                                    | 23/150 [05:56<38:12, 18.05s/it]Your max_length is set to 150, but your input_length is only 136. Since this is a summarization task, where outputs shorter than the input are typically wanted, you might consider decreasing max_length manually, e.g. summarizer('...', max_length=68)\n",
      " 19%|███████████████▋                                                                 | 29/150 [07:54<39:28, 19.57s/it]Your max_length is set to 150, but your input_length is only 138. Since this is a summarization task, where outputs shorter than the input are typically wanted, you might consider decreasing max_length manually, e.g. summarizer('...', max_length=69)\n",
      " 21%|█████████████████▎                                                               | 32/150 [08:33<30:02, 15.27s/it]Your max_length is set to 150, but your input_length is only 86. Since this is a summarization task, where outputs shorter than the input are typically wanted, you might consider decreasing max_length manually, e.g. summarizer('...', max_length=43)\n",
      " 27%|██████████████████████▏                                                          | 41/150 [11:17<30:26, 16.75s/it]Your max_length is set to 150, but your input_length is only 134. Since this is a summarization task, where outputs shorter than the input are typically wanted, you might consider decreasing max_length manually, e.g. summarizer('...', max_length=67)\n",
      " 33%|██████████████████████████▍                                                      | 49/150 [13:37<30:42, 18.24s/it]Your max_length is set to 150, but your input_length is only 133. Since this is a summarization task, where outputs shorter than the input are typically wanted, you might consider decreasing max_length manually, e.g. summarizer('...', max_length=66)\n",
      " 34%|███████████████████████████▌                                                     | 51/150 [14:06<26:48, 16.25s/it]Your max_length is set to 150, but your input_length is only 80. Since this is a summarization task, where outputs shorter than the input are typically wanted, you might consider decreasing max_length manually, e.g. summarizer('...', max_length=40)\n",
      " 35%|████████████████████████████▌                                                    | 53/150 [14:32<23:32, 14.56s/it]Your max_length is set to 150, but your input_length is only 74. Since this is a summarization task, where outputs shorter than the input are typically wanted, you might consider decreasing max_length manually, e.g. summarizer('...', max_length=37)\n",
      " 37%|██████████████████████████████▏                                                  | 56/150 [15:28<27:50, 17.77s/it]Your max_length is set to 150, but your input_length is only 75. Since this is a summarization task, where outputs shorter than the input are typically wanted, you might consider decreasing max_length manually, e.g. summarizer('...', max_length=37)\n",
      " 38%|██████████████████████████████▊                                                  | 57/150 [15:40<25:07, 16.20s/it]Your max_length is set to 150, but your input_length is only 141. Since this is a summarization task, where outputs shorter than the input are typically wanted, you might consider decreasing max_length manually, e.g. summarizer('...', max_length=70)\n",
      " 39%|███████████████████████████████▊                                                 | 59/150 [16:31<32:30, 21.44s/it]Your max_length is set to 150, but your input_length is only 100. Since this is a summarization task, where outputs shorter than the input are typically wanted, you might consider decreasing max_length manually, e.g. summarizer('...', max_length=50)\n",
      " 40%|████████████████████████████████▍                                                | 60/150 [16:43<28:00, 18.68s/it]Your max_length is set to 150, but your input_length is only 123. Since this is a summarization task, where outputs shorter than the input are typically wanted, you might consider decreasing max_length manually, e.g. summarizer('...', max_length=61)\n",
      " 43%|███████████████████████████████████                                              | 65/150 [18:37<34:16, 24.19s/it]Your max_length is set to 150, but your input_length is only 139. Since this is a summarization task, where outputs shorter than the input are typically wanted, you might consider decreasing max_length manually, e.g. summarizer('...', max_length=69)\n",
      " 45%|████████████████████████████████████▋                                            | 68/150 [19:20<24:38, 18.04s/it]Your max_length is set to 150, but your input_length is only 147. Since this is a summarization task, where outputs shorter than the input are typically wanted, you might consider decreasing max_length manually, e.g. summarizer('...', max_length=73)\n",
      " 49%|███████████████████████████████████████▍                                         | 73/150 [20:47<24:44, 19.27s/it]Your max_length is set to 150, but your input_length is only 148. Since this is a summarization task, where outputs shorter than the input are typically wanted, you might consider decreasing max_length manually, e.g. summarizer('...', max_length=74)\n",
      " 51%|█████████████████████████████████████████▌                                       | 77/150 [22:27<29:41, 24.40s/it]Your max_length is set to 150, but your input_length is only 65. Since this is a summarization task, where outputs shorter than the input are typically wanted, you might consider decreasing max_length manually, e.g. summarizer('...', max_length=32)\n"
     ]
    },
    {
     "name": "stderr",
     "output_type": "stream",
     "text": [
      " 52%|██████████████████████████████████████████                                       | 78/150 [23:11<36:06, 30.09s/it]Your max_length is set to 150, but your input_length is only 74. Since this is a summarization task, where outputs shorter than the input are typically wanted, you might consider decreasing max_length manually, e.g. summarizer('...', max_length=37)\n",
      " 55%|████████████████████████████████████████████▎                                    | 82/150 [24:35<27:39, 24.41s/it]Your max_length is set to 150, but your input_length is only 77. Since this is a summarization task, where outputs shorter than the input are typically wanted, you might consider decreasing max_length manually, e.g. summarizer('...', max_length=38)\n",
      " 57%|██████████████████████████████████████████████▍                                  | 86/150 [25:43<20:33, 19.28s/it]Your max_length is set to 150, but your input_length is only 128. Since this is a summarization task, where outputs shorter than the input are typically wanted, you might consider decreasing max_length manually, e.g. summarizer('...', max_length=64)\n",
      " 59%|███████████████████████████████████████████████▌                                 | 88/150 [26:06<15:46, 15.26s/it]Your max_length is set to 150, but your input_length is only 90. Since this is a summarization task, where outputs shorter than the input are typically wanted, you might consider decreasing max_length manually, e.g. summarizer('...', max_length=45)\n",
      " 66%|█████████████████████████████████████████████████████▍                           | 99/150 [29:17<15:49, 18.62s/it]Your max_length is set to 150, but your input_length is only 124. Since this is a summarization task, where outputs shorter than the input are typically wanted, you might consider decreasing max_length manually, e.g. summarizer('...', max_length=62)\n",
      " 68%|██████████████████████████████████████████████████████▍                         | 102/150 [29:55<11:44, 14.67s/it]Your max_length is set to 150, but your input_length is only 130. Since this is a summarization task, where outputs shorter than the input are typically wanted, you might consider decreasing max_length manually, e.g. summarizer('...', max_length=65)\n",
      " 69%|███████████████████████████████████████████████████████▍                        | 104/150 [30:17<09:54, 12.93s/it]Your max_length is set to 150, but your input_length is only 101. Since this is a summarization task, where outputs shorter than the input are typically wanted, you might consider decreasing max_length manually, e.g. summarizer('...', max_length=50)\n",
      " 70%|████████████████████████████████████████████████████████                        | 105/150 [30:28<09:24, 12.55s/it]Your max_length is set to 150, but your input_length is only 142. Since this is a summarization task, where outputs shorter than the input are typically wanted, you might consider decreasing max_length manually, e.g. summarizer('...', max_length=71)\n",
      " 73%|██████████████████████████████████████████████████████████▋                     | 110/150 [31:52<10:49, 16.23s/it]Your max_length is set to 150, but your input_length is only 77. Since this is a summarization task, where outputs shorter than the input are typically wanted, you might consider decreasing max_length manually, e.g. summarizer('...', max_length=38)\n",
      " 75%|████████████████████████████████████████████████████████████▎                   | 113/150 [32:32<08:52, 14.40s/it]Your max_length is set to 150, but your input_length is only 106. Since this is a summarization task, where outputs shorter than the input are typically wanted, you might consider decreasing max_length manually, e.g. summarizer('...', max_length=53)\n",
      " 77%|█████████████████████████████████████████████████████████████▊                  | 116/150 [33:13<08:05, 14.27s/it]Your max_length is set to 150, but your input_length is only 130. Since this is a summarization task, where outputs shorter than the input are typically wanted, you might consider decreasing max_length manually, e.g. summarizer('...', max_length=65)\n",
      " 81%|████████████████████████████████████████████████████████████████▌               | 121/150 [34:49<08:58, 18.55s/it]Your max_length is set to 150, but your input_length is only 88. Since this is a summarization task, where outputs shorter than the input are typically wanted, you might consider decreasing max_length manually, e.g. summarizer('...', max_length=44)\n",
      " 81%|█████████████████████████████████████████████████████████████████               | 122/150 [35:00<07:30, 16.08s/it]Your max_length is set to 150, but your input_length is only 120. Since this is a summarization task, where outputs shorter than the input are typically wanted, you might consider decreasing max_length manually, e.g. summarizer('...', max_length=60)\n",
      " 86%|████████████████████████████████████████████████████████████████████▊           | 129/150 [37:00<05:40, 16.20s/it]Your max_length is set to 150, but your input_length is only 76. Since this is a summarization task, where outputs shorter than the input are typically wanted, you might consider decreasing max_length manually, e.g. summarizer('...', max_length=38)\n",
      " 87%|█████████████████████████████████████████████████████████████████████▎          | 130/150 [37:10<04:47, 14.39s/it]Your max_length is set to 150, but your input_length is only 72. Since this is a summarization task, where outputs shorter than the input are typically wanted, you might consider decreasing max_length manually, e.g. summarizer('...', max_length=36)\n",
      " 89%|██████████████████████████████████████████████████████████████████████▉         | 133/150 [37:50<03:58, 14.05s/it]Your max_length is set to 150, but your input_length is only 141. Since this is a summarization task, where outputs shorter than the input are typically wanted, you might consider decreasing max_length manually, e.g. summarizer('...', max_length=70)\n",
      " 89%|███████████████████████████████████████████████████████████████████████▍        | 134/150 [38:00<03:24, 12.76s/it]Your max_length is set to 150, but your input_length is only 110. Since this is a summarization task, where outputs shorter than the input are typically wanted, you might consider decreasing max_length manually, e.g. summarizer('...', max_length=55)\n",
      " 91%|████████████████████████████████████████████████████████████████████████▌       | 136/150 [38:26<03:01, 12.96s/it]Your max_length is set to 150, but your input_length is only 115. Since this is a summarization task, where outputs shorter than the input are typically wanted, you might consider decreasing max_length manually, e.g. summarizer('...', max_length=57)\n",
      " 91%|█████████████████████████████████████████████████████████████████████████       | 137/150 [38:37<02:42, 12.54s/it]Your max_length is set to 150, but your input_length is only 137. Since this is a summarization task, where outputs shorter than the input are typically wanted, you might consider decreasing max_length manually, e.g. summarizer('...', max_length=68)\n",
      " 93%|██████████████████████████████████████████████████████████████████████████▋     | 140/150 [39:48<03:39, 21.98s/it]Your max_length is set to 150, but your input_length is only 135. Since this is a summarization task, where outputs shorter than the input are typically wanted, you might consider decreasing max_length manually, e.g. summarizer('...', max_length=67)\n",
      " 98%|██████████████████████████████████████████████████████████████████████████████▍ | 147/150 [41:45<00:46, 15.51s/it]Your max_length is set to 150, but your input_length is only 120. Since this is a summarization task, where outputs shorter than the input are typically wanted, you might consider decreasing max_length manually, e.g. summarizer('...', max_length=60)\n",
      " 99%|██████████████████████████████████████████████████████████████████████████████▉ | 148/150 [41:57<00:28, 14.31s/it]Your max_length is set to 150, but your input_length is only 147. Since this is a summarization task, where outputs shorter than the input are typically wanted, you might consider decreasing max_length manually, e.g. summarizer('...', max_length=73)\n"
     ]
    },
    {
     "name": "stderr",
     "output_type": "stream",
     "text": [
      "100%|████████████████████████████████████████████████████████████████████████████████| 150/150 [42:32<00:00, 17.01s/it]\n"
     ]
    },
    {
     "name": "stdout",
     "output_type": "stream",
     "text": [
      "==================================================\n",
      "Evaluating model: allenai/led-large-16384-arxiv\n"
     ]
    },
    {
     "data": {
      "application/vnd.jupyter.widget-view+json": {
       "model_id": "84ea6ba40cbf4bb9931edb814ac75f5c",
       "version_major": 2,
       "version_minor": 0
      },
      "text/plain": [
       "Downloading config.json:   0%|          | 0.00/1.29k [00:00<?, ?B/s]"
      ]
     },
     "metadata": {},
     "output_type": "display_data"
    },
    {
     "data": {
      "application/vnd.jupyter.widget-view+json": {
       "model_id": "eb17214469a14d7aa2a6cc03d252fb04",
       "version_major": 2,
       "version_minor": 0
      },
      "text/plain": [
       "Downloading pytorch_model.bin:   0%|          | 0.00/1.84G [00:00<?, ?B/s]"
      ]
     },
     "metadata": {},
     "output_type": "display_data"
    },
    {
     "data": {
      "application/vnd.jupyter.widget-view+json": {
       "model_id": "37fde9886e984f4aa6c7b63f2cdb1fe3",
       "version_major": 2,
       "version_minor": 0
      },
      "text/plain": [
       "Downloading tf_model.h5:   0%|          | 0.00/1.84G [00:00<?, ?B/s]"
      ]
     },
     "metadata": {},
     "output_type": "display_data"
    },
    {
     "name": "stderr",
     "output_type": "stream",
     "text": [
      "All model checkpoint layers were used when initializing TFLEDForConditionalGeneration.\n",
      "\n",
      "Some layers of TFLEDForConditionalGeneration were not initialized from the model checkpoint at allenai/led-large-16384-arxiv and are newly initialized: ['final_logits_bias']\n",
      "You should probably TRAIN this model on a down-stream task to be able to use it for predictions and inference.\n"
     ]
    },
    {
     "data": {
      "application/vnd.jupyter.widget-view+json": {
       "model_id": "e983755d92b549f4b7884b4266419792",
       "version_major": 2,
       "version_minor": 0
      },
      "text/plain": [
       "Downloading generation_config.json:   0%|          | 0.00/207 [00:00<?, ?B/s]"
      ]
     },
     "metadata": {},
     "output_type": "display_data"
    },
    {
     "data": {
      "application/vnd.jupyter.widget-view+json": {
       "model_id": "7a9a15511f084bc39c6840e79f00321e",
       "version_major": 2,
       "version_minor": 0
      },
      "text/plain": [
       "Downloading tokenizer_config.json:   0%|          | 0.00/27.0 [00:00<?, ?B/s]"
      ]
     },
     "metadata": {},
     "output_type": "display_data"
    },
    {
     "data": {
      "application/vnd.jupyter.widget-view+json": {
       "model_id": "7a921ac5f4c64be69f1d9fd380a577ab",
       "version_major": 2,
       "version_minor": 0
      },
      "text/plain": [
       "Downloading vocab.json:   0%|          | 0.00/899k [00:00<?, ?B/s]"
      ]
     },
     "metadata": {},
     "output_type": "display_data"
    },
    {
     "data": {
      "application/vnd.jupyter.widget-view+json": {
       "model_id": "9f6382c45621448da501e20090218084",
       "version_major": 2,
       "version_minor": 0
      },
      "text/plain": [
       "Downloading merges.txt:   0%|          | 0.00/456k [00:00<?, ?B/s]"
      ]
     },
     "metadata": {},
     "output_type": "display_data"
    },
    {
     "data": {
      "application/vnd.jupyter.widget-view+json": {
       "model_id": "0df5e7a4aeb5462e8e8b2c60333d199e",
       "version_major": 2,
       "version_minor": 0
      },
      "text/plain": [
       "Downloading (…)cial_tokens_map.json:   0%|          | 0.00/772 [00:00<?, ?B/s]"
      ]
     },
     "metadata": {},
     "output_type": "display_data"
    },
    {
     "name": "stderr",
     "output_type": "stream",
     "text": [
      "  2%|█▌                                                                              | 3/150 [04:19<3:29:16, 85.42s/it]"
     ]
    },
    {
     "name": "stdout",
     "output_type": "stream",
     "text": [
      "WARNING:tensorflow:5 out of the last 5 calls to <function TFLEDEncoder.compute_hidden_states at 0x0000018EDDF879C0> triggered tf.function retracing. Tracing is expensive and the excessive number of tracings could be due to (1) creating @tf.function repeatedly in a loop, (2) passing tensors with different shapes, (3) passing Python objects instead of tensors. For (1), please define your @tf.function outside of the loop. For (2), @tf.function has reduce_retracing=True option that can avoid unnecessary retracing. For (3), please refer to https://www.tensorflow.org/guide/function#controlling_retracing and https://www.tensorflow.org/api_docs/python/tf/function for  more details.\n"
     ]
    },
    {
     "name": "stderr",
     "output_type": "stream",
     "text": [
      "\r",
      "  3%|██▏                                                                             | 4/150 [05:42<3:25:55, 84.63s/it]"
     ]
    },
    {
     "name": "stdout",
     "output_type": "stream",
     "text": [
      "WARNING:tensorflow:6 out of the last 6 calls to <function TFLEDEncoder.compute_hidden_states at 0x0000018EDDF879C0> triggered tf.function retracing. Tracing is expensive and the excessive number of tracings could be due to (1) creating @tf.function repeatedly in a loop, (2) passing tensors with different shapes, (3) passing Python objects instead of tensors. For (1), please define your @tf.function outside of the loop. For (2), @tf.function has reduce_retracing=True option that can avoid unnecessary retracing. For (3), please refer to https://www.tensorflow.org/guide/function#controlling_retracing and https://www.tensorflow.org/api_docs/python/tf/function for  more details.\n"
     ]
    },
    {
     "name": "stderr",
     "output_type": "stream",
     "text": [
      "  3%|██▋                                                                             | 5/150 [07:05<3:22:32, 83.81s/it]Your max_length is set to 150, but your input_length is only 100. Since this is a summarization task, where outputs shorter than the input are typically wanted, you might consider decreasing max_length manually, e.g. summarizer('...', max_length=50)\n",
      "  4%|███▏                                                                            | 6/150 [08:46<3:35:17, 89.71s/it]Your max_length is set to 150, but your input_length is only 87. Since this is a summarization task, where outputs shorter than the input are typically wanted, you might consider decreasing max_length manually, e.g. summarizer('...', max_length=43)\n",
      "  8%|██████▎                                                                        | 12/150 [17:54<3:33:55, 93.01s/it]Your max_length is set to 150, but your input_length is only 99. Since this is a summarization task, where outputs shorter than the input are typically wanted, you might consider decreasing max_length manually, e.g. summarizer('...', max_length=49)\n",
      " 10%|███████▉                                                                       | 15/150 [22:32<3:29:37, 93.17s/it]Your max_length is set to 150, but your input_length is only 76. Since this is a summarization task, where outputs shorter than the input are typically wanted, you might consider decreasing max_length manually, e.g. summarizer('...', max_length=38)\n",
      " 11%|████████▍                                                                      | 16/150 [24:01<3:25:44, 92.13s/it]Your max_length is set to 150, but your input_length is only 81. Since this is a summarization task, where outputs shorter than the input are typically wanted, you might consider decreasing max_length manually, e.g. summarizer('...', max_length=40)\n",
      " 13%|██████████                                                                     | 19/150 [28:15<3:09:31, 86.80s/it]Your max_length is set to 150, but your input_length is only 120. Since this is a summarization task, where outputs shorter than the input are typically wanted, you might consider decreasing max_length manually, e.g. summarizer('...', max_length=60)\n",
      " 15%|████████████                                                                   | 23/150 [33:59<3:04:44, 87.28s/it]Your max_length is set to 150, but your input_length is only 140. Since this is a summarization task, where outputs shorter than the input are typically wanted, you might consider decreasing max_length manually, e.g. summarizer('...', max_length=70)\n",
      " 19%|███████████████▎                                                               | 29/150 [42:37<2:52:04, 85.32s/it]Your max_length is set to 150, but your input_length is only 143. Since this is a summarization task, where outputs shorter than the input are typically wanted, you might consider decreasing max_length manually, e.g. summarizer('...', max_length=71)\n",
      " 21%|████████████████▊                                                              | 32/150 [46:57<2:50:49, 86.86s/it]Your max_length is set to 150, but your input_length is only 87. Since this is a summarization task, where outputs shorter than the input are typically wanted, you might consider decreasing max_length manually, e.g. summarizer('...', max_length=43)\n",
      " 27%|████████████████████▊                                                       | 41/150 [1:04:09<3:29:54, 115.54s/it]Your max_length is set to 150, but your input_length is only 139. Since this is a summarization task, where outputs shorter than the input are typically wanted, you might consider decreasing max_length manually, e.g. summarizer('...', max_length=69)\n",
      " 33%|█████████████████████████▏                                                   | 49/150 [1:18:02<2:46:33, 98.94s/it]Your max_length is set to 150, but your input_length is only 144. Since this is a summarization task, where outputs shorter than the input are typically wanted, you might consider decreasing max_length manually, e.g. summarizer('...', max_length=72)\n",
      " 34%|██████████████████████████▏                                                  | 51/150 [1:20:54<2:32:42, 92.55s/it]Your max_length is set to 150, but your input_length is only 83. Since this is a summarization task, where outputs shorter than the input are typically wanted, you might consider decreasing max_length manually, e.g. summarizer('...', max_length=41)\n",
      " 35%|███████████████████████████▏                                                 | 53/150 [1:23:44<2:23:28, 88.75s/it]Your max_length is set to 150, but your input_length is only 74. Since this is a summarization task, where outputs shorter than the input are typically wanted, you might consider decreasing max_length manually, e.g. summarizer('...', max_length=37)\n",
      " 37%|████████████████████████████▋                                                | 56/150 [1:28:01<2:16:19, 87.02s/it]Your max_length is set to 150, but your input_length is only 74. Since this is a summarization task, where outputs shorter than the input are typically wanted, you might consider decreasing max_length manually, e.g. summarizer('...', max_length=37)\n",
      " 38%|█████████████████████████████▎                                               | 57/150 [1:29:23<2:12:49, 85.69s/it]Your max_length is set to 150, but your input_length is only 146. Since this is a summarization task, where outputs shorter than the input are typically wanted, you might consider decreasing max_length manually, e.g. summarizer('...', max_length=73)\n",
      " 39%|██████████████████████████████▎                                              | 59/150 [1:32:19<2:12:22, 87.28s/it]Your max_length is set to 150, but your input_length is only 103. Since this is a summarization task, where outputs shorter than the input are typically wanted, you might consider decreasing max_length manually, e.g. summarizer('...', max_length=51)\n",
      " 40%|██████████████████████████████▊                                              | 60/150 [1:33:42<2:08:57, 85.97s/it]Your max_length is set to 150, but your input_length is only 125. Since this is a summarization task, where outputs shorter than the input are typically wanted, you might consider decreasing max_length manually, e.g. summarizer('...', max_length=62)\n",
      " 43%|█████████████████████████████████▎                                           | 65/150 [1:41:32<2:14:01, 94.61s/it]Your max_length is set to 150, but your input_length is only 141. Since this is a summarization task, where outputs shorter than the input are typically wanted, you might consider decreasing max_length manually, e.g. summarizer('...', max_length=70)\n",
      " 49%|█████████████████████████████████████▍                                       | 73/150 [1:53:29<1:52:07, 87.37s/it]Your max_length is set to 150, but your input_length is only 147. Since this is a summarization task, where outputs shorter than the input are typically wanted, you might consider decreasing max_length manually, e.g. summarizer('...', max_length=73)\n",
      " 51%|███████████████████████████████████████▌                                     | 77/150 [1:59:18<1:45:18, 86.55s/it]Your max_length is set to 150, but your input_length is only 64. Since this is a summarization task, where outputs shorter than the input are typically wanted, you might consider decreasing max_length manually, e.g. summarizer('...', max_length=32)\n",
      " 52%|████████████████████████████████████████                                     | 78/150 [2:00:38<1:41:37, 84.69s/it]Your max_length is set to 150, but your input_length is only 77. Since this is a summarization task, where outputs shorter than the input are typically wanted, you might consider decreasing max_length manually, e.g. summarizer('...', max_length=38)\n",
      " 55%|██████████████████████████████████████████                                   | 82/150 [2:06:12<1:35:19, 84.12s/it]Your max_length is set to 150, but your input_length is only 85. Since this is a summarization task, where outputs shorter than the input are typically wanted, you might consider decreasing max_length manually, e.g. summarizer('...', max_length=42)\n"
     ]
    },
    {
     "name": "stderr",
     "output_type": "stream",
     "text": [
      " 57%|████████████████████████████████████████████▏                                | 86/150 [2:11:43<1:28:57, 83.40s/it]Your max_length is set to 150, but your input_length is only 139. Since this is a summarization task, where outputs shorter than the input are typically wanted, you might consider decreasing max_length manually, e.g. summarizer('...', max_length=69)\n",
      " 59%|█████████████████████████████████████████████▏                               | 88/150 [2:14:30<1:26:32, 83.75s/it]Your max_length is set to 150, but your input_length is only 96. Since this is a summarization task, where outputs shorter than the input are typically wanted, you might consider decreasing max_length manually, e.g. summarizer('...', max_length=48)\n",
      " 66%|██████████████████████████████████████████████████▊                          | 99/150 [2:29:49<1:11:29, 84.12s/it]Your max_length is set to 150, but your input_length is only 132. Since this is a summarization task, where outputs shorter than the input are typically wanted, you might consider decreasing max_length manually, e.g. summarizer('...', max_length=66)\n",
      " 68%|███████████████████████████████████████████████████▋                        | 102/150 [2:33:55<1:06:17, 82.86s/it]Your max_length is set to 150, but your input_length is only 131. Since this is a summarization task, where outputs shorter than the input are typically wanted, you might consider decreasing max_length manually, e.g. summarizer('...', max_length=65)\n",
      " 69%|████████████████████████████████████████████████████▋                       | 104/150 [2:36:38<1:02:57, 82.13s/it]Your max_length is set to 150, but your input_length is only 107. Since this is a summarization task, where outputs shorter than the input are typically wanted, you might consider decreasing max_length manually, e.g. summarizer('...', max_length=53)\n",
      " 70%|█████████████████████████████████████████████████████▏                      | 105/150 [2:37:59<1:01:18, 81.74s/it]Your max_length is set to 150, but your input_length is only 148. Since this is a summarization task, where outputs shorter than the input are typically wanted, you might consider decreasing max_length manually, e.g. summarizer('...', max_length=74)\n",
      " 73%|█████████████████████████████████████████████████████████▏                    | 110/150 [2:44:56<55:25, 83.14s/it]Your max_length is set to 150, but your input_length is only 82. Since this is a summarization task, where outputs shorter than the input are typically wanted, you might consider decreasing max_length manually, e.g. summarizer('...', max_length=41)\n",
      " 75%|██████████████████████████████████████████████████████████▊                   | 113/150 [2:49:05<51:25, 83.38s/it]Your max_length is set to 150, but your input_length is only 109. Since this is a summarization task, where outputs shorter than the input are typically wanted, you might consider decreasing max_length manually, e.g. summarizer('...', max_length=54)\n",
      " 77%|████████████████████████████████████████████████████████████▎                 | 116/150 [2:53:31<49:14, 86.90s/it]Your max_length is set to 150, but your input_length is only 136. Since this is a summarization task, where outputs shorter than the input are typically wanted, you might consider decreasing max_length manually, e.g. summarizer('...', max_length=68)\n",
      " 81%|██████████████████████████████████████████████████████████████▉               | 121/150 [3:01:03<45:25, 93.99s/it]Your max_length is set to 150, but your input_length is only 89. Since this is a summarization task, where outputs shorter than the input are typically wanted, you might consider decreasing max_length manually, e.g. summarizer('...', max_length=44)\n",
      " 81%|██████████████████████████████████████████████████████████████▋              | 122/150 [3:02:57<46:46, 100.22s/it]Your max_length is set to 150, but your input_length is only 125. Since this is a summarization task, where outputs shorter than the input are typically wanted, you might consider decreasing max_length manually, e.g. summarizer('...', max_length=62)\n",
      " 86%|██████████████████████████████████████████████████████████████████▏          | 129/150 [3:16:25<40:02, 114.42s/it]Your max_length is set to 150, but your input_length is only 78. Since this is a summarization task, where outputs shorter than the input are typically wanted, you might consider decreasing max_length manually, e.g. summarizer('...', max_length=39)\n",
      " 87%|██████████████████████████████████████████████████████████████████▋          | 130/150 [3:18:19<38:07, 114.35s/it]Your max_length is set to 150, but your input_length is only 70. Since this is a summarization task, where outputs shorter than the input are typically wanted, you might consider decreasing max_length manually, e.g. summarizer('...', max_length=35)\n",
      " 89%|████████████████████████████████████████████████████████████████████▊        | 134/150 [3:25:51<30:29, 114.34s/it]Your max_length is set to 150, but your input_length is only 116. Since this is a summarization task, where outputs shorter than the input are typically wanted, you might consider decreasing max_length manually, e.g. summarizer('...', max_length=58)\n",
      " 91%|█████████████████████████████████████████████████████████████████████▊       | 136/150 [3:29:29<26:04, 111.75s/it]Your max_length is set to 150, but your input_length is only 123. Since this is a summarization task, where outputs shorter than the input are typically wanted, you might consider decreasing max_length manually, e.g. summarizer('...', max_length=61)\n",
      " 91%|██████████████████████████████████████████████████████████████████████▎      | 137/150 [3:31:23<24:20, 112.34s/it]Your max_length is set to 150, but your input_length is only 140. Since this is a summarization task, where outputs shorter than the input are typically wanted, you might consider decreasing max_length manually, e.g. summarizer('...', max_length=70)\n",
      " 93%|███████████████████████████████████████████████████████████████████████▊     | 140/150 [3:37:17<19:34, 117.41s/it]Your max_length is set to 150, but your input_length is only 148. Since this is a summarization task, where outputs shorter than the input are typically wanted, you might consider decreasing max_length manually, e.g. summarizer('...', max_length=74)\n",
      " 98%|███████████████████████████████████████████████████████████████████████████▍ | 147/150 [3:52:18<06:33, 131.09s/it]Your max_length is set to 150, but your input_length is only 123. Since this is a summarization task, where outputs shorter than the input are typically wanted, you might consider decreasing max_length manually, e.g. summarizer('...', max_length=61)\n",
      " 99%|███████████████████████████████████████████████████████████████████████████▉ | 148/150 [3:54:17<04:14, 127.48s/it]Your max_length is set to 150, but your input_length is only 147. Since this is a summarization task, where outputs shorter than the input are typically wanted, you might consider decreasing max_length manually, e.g. summarizer('...', max_length=73)\n",
      "100%|██████████████████████████████████████████████████████████████████████████████| 150/150 [3:58:31<00:00, 95.41s/it]\n"
     ]
    },
    {
     "name": "stdout",
     "output_type": "stream",
     "text": [
      "==================================================\n",
      "Evaluating model: sshleifer/bart-tiny-random\n"
     ]
    },
    {
     "data": {
      "application/vnd.jupyter.widget-view+json": {
       "model_id": "27a180f219fc4209bcc8cab134282714",
       "version_major": 2,
       "version_minor": 0
      },
      "text/plain": [
       "Downloading config.json:   0%|          | 0.00/1.30k [00:00<?, ?B/s]"
      ]
     },
     "metadata": {},
     "output_type": "display_data"
    },
    {
     "data": {
      "application/vnd.jupyter.widget-view+json": {
       "model_id": "49309fc976de44c5993e996a6f0d1b9e",
       "version_major": 2,
       "version_minor": 0
      },
      "text/plain": [
       "Downloading pytorch_model.bin:   0%|          | 0.00/5.11M [00:00<?, ?B/s]"
      ]
     },
     "metadata": {},
     "output_type": "display_data"
    },
    {
     "data": {
      "application/vnd.jupyter.widget-view+json": {
       "model_id": "0248052668df4ae3a7bdb50b1a45b225",
       "version_major": 2,
       "version_minor": 0
      },
      "text/plain": [
       "Downloading vocab.json:   0%|          | 0.00/899k [00:00<?, ?B/s]"
      ]
     },
     "metadata": {},
     "output_type": "display_data"
    },
    {
     "data": {
      "application/vnd.jupyter.widget-view+json": {
       "model_id": "a9368a580db3402c82c362f6f10e40a1",
       "version_major": 2,
       "version_minor": 0
      },
      "text/plain": [
       "Downloading merges.txt:   0%|          | 0.00/456k [00:00<?, ?B/s]"
      ]
     },
     "metadata": {},
     "output_type": "display_data"
    },
    {
     "name": "stderr",
     "output_type": "stream",
     "text": [
      "  0%|                                                                                          | 0/150 [00:00<?, ?it/s]E:\\anaconda\\Lib\\site-packages\\transformers\\generation\\configuration_utils.py:399: UserWarning: `num_beams` is set to 1. However, `early_stopping` is set to `True` -- this flag is only used in beam-based generation modes. You should set `num_beams>1` or unset `early_stopping`. This was detected when initializing the generation config instance, which means the corresponding file may hold incorrect parameterization and should be fixed.\n",
      "  warnings.warn(\n",
      "E:\\anaconda\\Lib\\site-packages\\transformers\\generation\\configuration_utils.py:399: UserWarning: `num_beams` is set to 1. However, `early_stopping` is set to `True` -- this flag is only used in beam-based generation modes. You should set `num_beams>1` or unset `early_stopping`.\n",
      "  warnings.warn(\n",
      "  3%|██▋                                                                               | 5/150 [00:03<01:39,  1.46it/s]Your max_length is set to 150, but your input_length is only 100. Since this is a summarization task, where outputs shorter than the input are typically wanted, you might consider decreasing max_length manually, e.g. summarizer('...', max_length=50)\n",
      "  4%|███▎                                                                              | 6/150 [00:04<01:35,  1.50it/s]Your max_length is set to 150, but your input_length is only 87. Since this is a summarization task, where outputs shorter than the input are typically wanted, you might consider decreasing max_length manually, e.g. summarizer('...', max_length=43)\n",
      "  8%|██████▍                                                                          | 12/150 [00:07<01:23,  1.64it/s]Your max_length is set to 150, but your input_length is only 99. Since this is a summarization task, where outputs shorter than the input are typically wanted, you might consider decreasing max_length manually, e.g. summarizer('...', max_length=49)\n",
      " 10%|████████                                                                         | 15/150 [00:09<01:16,  1.77it/s]Your max_length is set to 150, but your input_length is only 76. Since this is a summarization task, where outputs shorter than the input are typically wanted, you might consider decreasing max_length manually, e.g. summarizer('...', max_length=38)\n",
      " 11%|████████▋                                                                        | 16/150 [00:09<01:18,  1.70it/s]Your max_length is set to 150, but your input_length is only 81. Since this is a summarization task, where outputs shorter than the input are typically wanted, you might consider decreasing max_length manually, e.g. summarizer('...', max_length=40)\n",
      " 13%|██████████▎                                                                      | 19/150 [00:11<01:21,  1.60it/s]Your max_length is set to 150, but your input_length is only 120. Since this is a summarization task, where outputs shorter than the input are typically wanted, you might consider decreasing max_length manually, e.g. summarizer('...', max_length=60)\n",
      " 15%|████████████▍                                                                    | 23/150 [00:14<01:28,  1.43it/s]Your max_length is set to 150, but your input_length is only 140. Since this is a summarization task, where outputs shorter than the input are typically wanted, you might consider decreasing max_length manually, e.g. summarizer('...', max_length=70)\n",
      " 19%|███████████████▋                                                                 | 29/150 [00:18<01:20,  1.50it/s]Your max_length is set to 150, but your input_length is only 143. Since this is a summarization task, where outputs shorter than the input are typically wanted, you might consider decreasing max_length manually, e.g. summarizer('...', max_length=71)\n",
      " 21%|█████████████████▎                                                               | 32/150 [00:20<01:14,  1.57it/s]Your max_length is set to 150, but your input_length is only 87. Since this is a summarization task, where outputs shorter than the input are typically wanted, you might consider decreasing max_length manually, e.g. summarizer('...', max_length=43)\n",
      " 27%|██████████████████████▏                                                          | 41/150 [00:25<01:05,  1.67it/s]Your max_length is set to 150, but your input_length is only 139. Since this is a summarization task, where outputs shorter than the input are typically wanted, you might consider decreasing max_length manually, e.g. summarizer('...', max_length=69)\n",
      " 33%|██████████████████████████▍                                                      | 49/150 [00:30<00:57,  1.75it/s]Your max_length is set to 150, but your input_length is only 144. Since this is a summarization task, where outputs shorter than the input are typically wanted, you might consider decreasing max_length manually, e.g. summarizer('...', max_length=72)\n",
      " 34%|███████████████████████████▌                                                     | 51/150 [00:31<00:55,  1.78it/s]Your max_length is set to 150, but your input_length is only 83. Since this is a summarization task, where outputs shorter than the input are typically wanted, you might consider decreasing max_length manually, e.g. summarizer('...', max_length=41)\n",
      " 35%|████████████████████████████▌                                                    | 53/150 [00:32<00:53,  1.82it/s]Your max_length is set to 150, but your input_length is only 74. Since this is a summarization task, where outputs shorter than the input are typically wanted, you might consider decreasing max_length manually, e.g. summarizer('...', max_length=37)\n",
      " 37%|██████████████████████████████▏                                                  | 56/150 [00:34<00:49,  1.90it/s]Your max_length is set to 150, but your input_length is only 74. Since this is a summarization task, where outputs shorter than the input are typically wanted, you might consider decreasing max_length manually, e.g. summarizer('...', max_length=37)\n",
      " 38%|██████████████████████████████▊                                                  | 57/150 [00:34<00:49,  1.87it/s]Your max_length is set to 150, but your input_length is only 146. Since this is a summarization task, where outputs shorter than the input are typically wanted, you might consider decreasing max_length manually, e.g. summarizer('...', max_length=73)\n",
      " 39%|███████████████████████████████▊                                                 | 59/150 [00:35<00:48,  1.87it/s]Your max_length is set to 150, but your input_length is only 103. Since this is a summarization task, where outputs shorter than the input are typically wanted, you might consider decreasing max_length manually, e.g. summarizer('...', max_length=51)\n",
      " 40%|████████████████████████████████▍                                                | 60/150 [00:36<00:48,  1.84it/s]Your max_length is set to 150, but your input_length is only 125. Since this is a summarization task, where outputs shorter than the input are typically wanted, you might consider decreasing max_length manually, e.g. summarizer('...', max_length=62)\n",
      " 43%|███████████████████████████████████                                              | 65/150 [00:39<00:46,  1.82it/s]Your max_length is set to 150, but your input_length is only 141. Since this is a summarization task, where outputs shorter than the input are typically wanted, you might consider decreasing max_length manually, e.g. summarizer('...', max_length=70)\n",
      " 49%|███████████████████████████████████████▍                                         | 73/150 [00:43<00:43,  1.79it/s]Your max_length is set to 150, but your input_length is only 147. Since this is a summarization task, where outputs shorter than the input are typically wanted, you might consider decreasing max_length manually, e.g. summarizer('...', max_length=73)\n",
      " 51%|█████████████████████████████████████████▌                                       | 77/150 [00:46<00:46,  1.57it/s]Your max_length is set to 150, but your input_length is only 64. Since this is a summarization task, where outputs shorter than the input are typically wanted, you might consider decreasing max_length manually, e.g. summarizer('...', max_length=32)\n"
     ]
    },
    {
     "name": "stderr",
     "output_type": "stream",
     "text": [
      " 52%|██████████████████████████████████████████                                       | 78/150 [00:46<00:47,  1.53it/s]Your max_length is set to 150, but your input_length is only 77. Since this is a summarization task, where outputs shorter than the input are typically wanted, you might consider decreasing max_length manually, e.g. summarizer('...', max_length=38)\n",
      " 55%|████████████████████████████████████████████▎                                    | 82/150 [00:49<00:41,  1.65it/s]Your max_length is set to 150, but your input_length is only 85. Since this is a summarization task, where outputs shorter than the input are typically wanted, you might consider decreasing max_length manually, e.g. summarizer('...', max_length=42)\n",
      " 57%|██████████████████████████████████████████████▍                                  | 86/150 [00:51<00:40,  1.57it/s]Your max_length is set to 150, but your input_length is only 139. Since this is a summarization task, where outputs shorter than the input are typically wanted, you might consider decreasing max_length manually, e.g. summarizer('...', max_length=69)\n",
      " 59%|███████████████████████████████████████████████▌                                 | 88/150 [00:52<00:36,  1.69it/s]Your max_length is set to 150, but your input_length is only 96. Since this is a summarization task, where outputs shorter than the input are typically wanted, you might consider decreasing max_length manually, e.g. summarizer('...', max_length=48)\n",
      " 66%|█████████████████████████████████████████████████████▍                           | 99/150 [01:00<00:30,  1.70it/s]Your max_length is set to 150, but your input_length is only 132. Since this is a summarization task, where outputs shorter than the input are typically wanted, you might consider decreasing max_length manually, e.g. summarizer('...', max_length=66)\n",
      " 68%|██████████████████████████████████████████████████████▍                         | 102/150 [01:01<00:26,  1.78it/s]Your max_length is set to 150, but your input_length is only 131. Since this is a summarization task, where outputs shorter than the input are typically wanted, you might consider decreasing max_length manually, e.g. summarizer('...', max_length=65)\n",
      " 69%|███████████████████████████████████████████████████████▍                        | 104/150 [01:03<00:28,  1.61it/s]Your max_length is set to 150, but your input_length is only 107. Since this is a summarization task, where outputs shorter than the input are typically wanted, you might consider decreasing max_length manually, e.g. summarizer('...', max_length=53)\n",
      " 70%|████████████████████████████████████████████████████████                        | 105/150 [01:03<00:30,  1.46it/s]Your max_length is set to 150, but your input_length is only 148. Since this is a summarization task, where outputs shorter than the input are typically wanted, you might consider decreasing max_length manually, e.g. summarizer('...', max_length=74)\n",
      " 73%|██████████████████████████████████████████████████████████▋                     | 110/150 [01:06<00:23,  1.74it/s]Your max_length is set to 150, but your input_length is only 82. Since this is a summarization task, where outputs shorter than the input are typically wanted, you might consider decreasing max_length manually, e.g. summarizer('...', max_length=41)\n",
      " 75%|████████████████████████████████████████████████████████████▎                   | 113/150 [01:08<00:21,  1.72it/s]Your max_length is set to 150, but your input_length is only 109. Since this is a summarization task, where outputs shorter than the input are typically wanted, you might consider decreasing max_length manually, e.g. summarizer('...', max_length=54)\n",
      " 77%|█████████████████████████████████████████████████████████████▊                  | 116/150 [01:10<00:19,  1.71it/s]Your max_length is set to 150, but your input_length is only 136. Since this is a summarization task, where outputs shorter than the input are typically wanted, you might consider decreasing max_length manually, e.g. summarizer('...', max_length=68)\n",
      " 81%|████████████████████████████████████████████████████████████████▌               | 121/150 [01:13<00:16,  1.75it/s]Your max_length is set to 150, but your input_length is only 89. Since this is a summarization task, where outputs shorter than the input are typically wanted, you might consider decreasing max_length manually, e.g. summarizer('...', max_length=44)\n",
      " 81%|█████████████████████████████████████████████████████████████████               | 122/150 [01:13<00:18,  1.54it/s]Your max_length is set to 150, but your input_length is only 125. Since this is a summarization task, where outputs shorter than the input are typically wanted, you might consider decreasing max_length manually, e.g. summarizer('...', max_length=62)\n",
      " 86%|████████████████████████████████████████████████████████████████████▊           | 129/150 [01:18<00:12,  1.64it/s]Your max_length is set to 150, but your input_length is only 78. Since this is a summarization task, where outputs shorter than the input are typically wanted, you might consider decreasing max_length manually, e.g. summarizer('...', max_length=39)\n",
      " 87%|█████████████████████████████████████████████████████████████████████▎          | 130/150 [01:18<00:11,  1.69it/s]Your max_length is set to 150, but your input_length is only 70. Since this is a summarization task, where outputs shorter than the input are typically wanted, you might consider decreasing max_length manually, e.g. summarizer('...', max_length=35)\n",
      " 89%|███████████████████████████████████████████████████████████████████████▍        | 134/150 [01:21<00:08,  1.78it/s]Your max_length is set to 150, but your input_length is only 116. Since this is a summarization task, where outputs shorter than the input are typically wanted, you might consider decreasing max_length manually, e.g. summarizer('...', max_length=58)\n",
      " 91%|████████████████████████████████████████████████████████████████████████▌       | 136/150 [01:22<00:08,  1.74it/s]Your max_length is set to 150, but your input_length is only 123. Since this is a summarization task, where outputs shorter than the input are typically wanted, you might consider decreasing max_length manually, e.g. summarizer('...', max_length=61)\n",
      " 91%|█████████████████████████████████████████████████████████████████████████       | 137/150 [01:22<00:07,  1.78it/s]Your max_length is set to 150, but your input_length is only 140. Since this is a summarization task, where outputs shorter than the input are typically wanted, you might consider decreasing max_length manually, e.g. summarizer('...', max_length=70)\n",
      " 93%|██████████████████████████████████████████████████████████████████████████▋     | 140/150 [01:24<00:05,  1.80it/s]Your max_length is set to 150, but your input_length is only 148. Since this is a summarization task, where outputs shorter than the input are typically wanted, you might consider decreasing max_length manually, e.g. summarizer('...', max_length=74)\n",
      " 98%|██████████████████████████████████████████████████████████████████████████████▍ | 147/150 [01:28<00:01,  1.77it/s]Your max_length is set to 150, but your input_length is only 123. Since this is a summarization task, where outputs shorter than the input are typically wanted, you might consider decreasing max_length manually, e.g. summarizer('...', max_length=61)\n",
      " 99%|██████████████████████████████████████████████████████████████████████████████▉ | 148/150 [01:29<00:01,  1.52it/s]Your max_length is set to 150, but your input_length is only 147. Since this is a summarization task, where outputs shorter than the input are typically wanted, you might consider decreasing max_length manually, e.g. summarizer('...', max_length=73)\n",
      "100%|████████████████████████████████████████████████████████████████████████████████| 150/150 [01:30<00:00,  1.66it/s]"
     ]
    },
    {
     "name": "stdout",
     "output_type": "stream",
     "text": [
      "==================================================\n"
     ]
    },
    {
     "name": "stderr",
     "output_type": "stream",
     "text": [
      "\n"
     ]
    }
   ],
   "source": [
    "for model_name in models:\n",
    "    print(f\"Evaluating model: {model_name}\")\n",
    "    summarizer = pipeline(\"summarization\", model=model_name, tokenizer=model_name)\n",
    "    semantic_coherence_scores = []\n",
    "    factual_accuracy_scores = []\n",
    "    content_coverage_scores = []\n",
    "    fluency_scores = []\n",
    "    generated_summaries = []\n",
    "    for index, row in tqdm(train_df.iterrows(), total=len(train_df)):  # Use tqdm to show progress\n",
    "        dialogue = row['dialogue']\n",
    "        summary = row['summary']\n",
    "        generated_summary = summarizer(dialogue, max_length=150, min_length=30, do_sample=False)[0][\"summary_text\"]\n",
    "        generated_summaries.append(generated_summary)\n",
    "        coherence_score = semantic_coherence(generated_summary, dialogue)\n",
    "        semantic_coherence_scores.append(coherence_score)\n",
    "        accuracy_score = factual_accuracy(generated_summary, summary)\n",
    "        factual_accuracy_scores.append(accuracy_score)\n",
    "        coverage_score = content_coverage(generated_summary, dialogue)\n",
    "        content_coverage_scores.append(coverage_score)\n",
    "        fluency_score = fluency(generated_summary)\n",
    "        fluency_scores.append(fluency_score)\n",
    "    evaluation_results_list.append({\n",
    "        \"Model\": model_name,\n",
    "        \"Semantic Coherence\": sum(semantic_coherence_scores) / len(semantic_coherence_scores),\n",
    "        \"Factual Accuracy\": sum(factual_accuracy_scores) / len(factual_accuracy_scores),\n",
    "        \"Content Coverage\": sum(content_coverage_scores) / len(content_coverage_scores),\n",
    "        \"Fluency\": sum(fluency_scores) / len(fluency_scores)\n",
    "    })\n",
    "    print(\"=\"*50)"
   ]
  },
  {
   "cell_type": "code",
   "execution_count": 24,
   "metadata": {},
   "outputs": [
    {
     "name": "stdout",
     "output_type": "stream",
     "text": [
      "7\n"
     ]
    }
   ],
   "source": [
    "print(len(evaluation_results_list))"
   ]
  },
  {
   "cell_type": "code",
   "execution_count": 25,
   "metadata": {
    "execution": {
     "iopub.execute_input": "2024-01-27T12:12:56.516966Z",
     "iopub.status.busy": "2024-01-27T12:12:56.516035Z",
     "iopub.status.idle": "2024-01-27T12:12:56.542956Z",
     "shell.execute_reply": "2024-01-27T12:12:56.541836Z",
     "shell.execute_reply.started": "2024-01-27T12:12:56.516866Z"
    }
   },
   "outputs": [],
   "source": [
    "result = pd.concat([pd.DataFrame(item, index=[0]) for item in evaluation_results_list], ignore_index=True)"
   ]
  },
  {
   "cell_type": "code",
   "execution_count": 26,
   "metadata": {
    "execution": {
     "iopub.execute_input": "2024-01-27T12:13:06.495187Z",
     "iopub.status.busy": "2024-01-27T12:13:06.494206Z",
     "iopub.status.idle": "2024-01-27T12:13:06.527232Z",
     "shell.execute_reply": "2024-01-27T12:13:06.526260Z",
     "shell.execute_reply.started": "2024-01-27T12:13:06.495126Z"
    }
   },
   "outputs": [],
   "source": [
    "result.to_csv(\"result.csv\", index=False)"
   ]
  },
  {
   "cell_type": "code",
   "execution_count": 28,
   "metadata": {
    "execution": {
     "iopub.execute_input": "2024-01-27T12:14:25.554856Z",
     "iopub.status.busy": "2024-01-27T12:14:25.554267Z",
     "iopub.status.idle": "2024-01-27T12:14:25.597975Z",
     "shell.execute_reply": "2024-01-27T12:14:25.596723Z",
     "shell.execute_reply.started": "2024-01-27T12:14:25.554816Z"
    }
   },
   "outputs": [
    {
     "data": {
      "text/html": [
       "<div>\n",
       "<style scoped>\n",
       "    .dataframe tbody tr th:only-of-type {\n",
       "        vertical-align: middle;\n",
       "    }\n",
       "\n",
       "    .dataframe tbody tr th {\n",
       "        vertical-align: top;\n",
       "    }\n",
       "\n",
       "    .dataframe thead th {\n",
       "        text-align: right;\n",
       "    }\n",
       "</style>\n",
       "<table border=\"1\" class=\"dataframe\">\n",
       "  <thead>\n",
       "    <tr style=\"text-align: right;\">\n",
       "      <th></th>\n",
       "      <th>Model</th>\n",
       "      <th>Semantic Coherence</th>\n",
       "      <th>Factual Accuracy</th>\n",
       "      <th>Content Coverage</th>\n",
       "      <th>Fluency</th>\n",
       "    </tr>\n",
       "  </thead>\n",
       "  <tbody>\n",
       "    <tr>\n",
       "      <th>0</th>\n",
       "      <td>facebook/bart-large-cnn</td>\n",
       "      <td>0.655644</td>\n",
       "      <td>0.458349</td>\n",
       "      <td>0.371606</td>\n",
       "      <td>13.815770</td>\n",
       "    </tr>\n",
       "    <tr>\n",
       "      <th>1</th>\n",
       "      <td>facebook/bart-large-cnn</td>\n",
       "      <td>0.655644</td>\n",
       "      <td>0.458349</td>\n",
       "      <td>0.371606</td>\n",
       "      <td>13.815770</td>\n",
       "    </tr>\n",
       "    <tr>\n",
       "      <th>2</th>\n",
       "      <td>t5-large</td>\n",
       "      <td>0.754954</td>\n",
       "      <td>0.457265</td>\n",
       "      <td>0.409083</td>\n",
       "      <td>15.751138</td>\n",
       "    </tr>\n",
       "    <tr>\n",
       "      <th>3</th>\n",
       "      <td>sshleifer/distilbart-cnn-12-6</td>\n",
       "      <td>0.707827</td>\n",
       "      <td>0.521906</td>\n",
       "      <td>0.484371</td>\n",
       "      <td>15.687915</td>\n",
       "    </tr>\n",
       "    <tr>\n",
       "      <th>4</th>\n",
       "      <td>google/pegasus-large</td>\n",
       "      <td>0.706821</td>\n",
       "      <td>0.420956</td>\n",
       "      <td>0.364438</td>\n",
       "      <td>11.779998</td>\n",
       "    </tr>\n",
       "    <tr>\n",
       "      <th>5</th>\n",
       "      <td>allenai/led-large-16384-arxiv</td>\n",
       "      <td>0.170011</td>\n",
       "      <td>0.292440</td>\n",
       "      <td>0.190508</td>\n",
       "      <td>3.732631</td>\n",
       "    </tr>\n",
       "  </tbody>\n",
       "</table>\n",
       "</div>"
      ],
      "text/plain": [
       "                           Model  Semantic Coherence  Factual Accuracy  \\\n",
       "0        facebook/bart-large-cnn            0.655644          0.458349   \n",
       "1        facebook/bart-large-cnn            0.655644          0.458349   \n",
       "2                       t5-large            0.754954          0.457265   \n",
       "3  sshleifer/distilbart-cnn-12-6            0.707827          0.521906   \n",
       "4           google/pegasus-large            0.706821          0.420956   \n",
       "5  allenai/led-large-16384-arxiv            0.170011          0.292440   \n",
       "\n",
       "   Content Coverage    Fluency  \n",
       "0          0.371606  13.815770  \n",
       "1          0.371606  13.815770  \n",
       "2          0.409083  15.751138  \n",
       "3          0.484371  15.687915  \n",
       "4          0.364438  11.779998  \n",
       "5          0.190508   3.732631  "
      ]
     },
     "execution_count": 28,
     "metadata": {},
     "output_type": "execute_result"
    }
   ],
   "source": [
    "result.head(6)"
   ]
  },
  {
   "cell_type": "code",
   "execution_count": null,
   "metadata": {},
   "outputs": [],
   "source": []
  }
 ],
 "metadata": {
  "kaggle": {
   "accelerator": "none",
   "dataSources": [
    {
     "datasetId": 4360491,
     "sourceId": 7489568,
     "sourceType": "datasetVersion"
    },
    {
     "datasetId": 4362078,
     "sourceId": 7491956,
     "sourceType": "datasetVersion"
    }
   ],
   "dockerImageVersionId": 30635,
   "isGpuEnabled": false,
   "isInternetEnabled": true,
   "language": "python",
   "sourceType": "notebook"
  },
  "kernelspec": {
   "display_name": "Python 3 (ipykernel)",
   "language": "python",
   "name": "python3"
  },
  "language_info": {
   "codemirror_mode": {
    "name": "ipython",
    "version": 3
   },
   "file_extension": ".py",
   "mimetype": "text/x-python",
   "name": "python",
   "nbconvert_exporter": "python",
   "pygments_lexer": "ipython3",
   "version": "3.11.5"
  }
 },
 "nbformat": 4,
 "nbformat_minor": 4
}
